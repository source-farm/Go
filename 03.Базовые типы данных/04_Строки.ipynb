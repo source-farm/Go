{
 "cells": [
  {
   "cell_type": "markdown",
   "metadata": {},
   "source": [
    "# Строки"
   ]
  },
  {
   "cell_type": "markdown",
   "metadata": {},
   "source": [
    "Строка является **неизменяемой**(immutable) последовательностью байт(uint8). Строки могут содержать произвольный данные, включая и байт с значением 0, но обычно они хранят читаемый текст. Строки можно условно интерпретировать как последовательность Unicode кодов символов(Unicode code point), закодированных в соответствии с **UTF-8**.\n",
    "\n",
    "Встроенная функция **len** возвращает количество байт в строке(не рун), а операция индексирования **s[i]** позволяет получить i-й байт строки, где 0 <= i < len(s):"
   ]
  },
  {
   "cell_type": "code",
   "execution_count": 1,
   "metadata": {},
   "outputs": [
    {
     "name": "stdout",
     "output_type": "stream",
     "text": [
      "14\n",
      "70\n"
     ]
    }
   ],
   "source": [
    "import \"fmt\"\n",
    "\n",
    "s := \"Friendly smile\"\n",
    "fmt.Println(len(s))\n",
    "fmt.Sprint(s[0])\n",
    "\n",
    "// Ошибка. Нельзя менять строку.\n",
    "// s[0] = 'A'\n",
    "\n",
    "// Ошибка. Вышли за размеры строки.\n",
    "// s[len(s)]"
   ]
  },
  {
   "cell_type": "markdown",
   "metadata": {},
   "source": [
    "i-й байт строки **необъязательно** является i-м символом строки, т.к. в кодировке UTF-8 коды не ASCII символов могут занимать больше одного байта.  \n",
    "\n",
    "Операция получения подстроки **s[i:j]** создаёт новую строку, начиная с байта с индексом i и до байта j, но не включая его. В результате получается строка из j-i байт:"
   ]
  },
  {
   "cell_type": "code",
   "execution_count": 2,
   "metadata": {},
   "outputs": [
    {
     "name": "stdout",
     "output_type": "stream",
     "text": [
      "brain\n"
     ]
    }
   ],
   "source": [
    "word := \"brainstorm\"\n",
    "fmt.Sprint(word[0:5])"
   ]
  },
  {
   "cell_type": "markdown",
   "metadata": {},
   "source": [
    "i и/или j можно опускать, только при этом значением по-умолчанию для i является 0, а для j - len(s):"
   ]
  },
  {
   "cell_type": "code",
   "execution_count": 3,
   "metadata": {},
   "outputs": [
    {
     "name": "stdout",
     "output_type": "stream",
     "text": [
      "scare\n",
      "crow\n",
      "scarecrow\n"
     ]
    }
   ],
   "source": [
    "word = \"scarecrow\"\n",
    "fmt.Println(word[:5])\n",
    "fmt.Println(word[5:])\n",
    "fmt.Sprint(word[:])"
   ]
  },
  {
   "cell_type": "markdown",
   "metadata": {},
   "source": [
    "Строки можно объединять простым сложением:"
   ]
  },
  {
   "cell_type": "code",
   "execution_count": 4,
   "metadata": {},
   "outputs": [
    {
     "name": "stdout",
     "output_type": "stream",
     "text": [
      "Bye-bye\n"
     ]
    }
   ],
   "source": [
    "fmt.Sprint(\"Bye\" + \"-bye\")"
   ]
  },
  {
   "cell_type": "markdown",
   "metadata": {},
   "source": [
    "Строки можно сравнивать между собой с помощью операторов ==, < и т.д. Сравнение выполняется побайтово.  \n",
    "\n",
    "Как мы уже говорили значение строк нельзя менять: последовательность байт, которая хранится в значении строки является неизменяемой, хотя мы и можем присвоить новое значение строковой переменной. Рассмотрим следующий пример:"
   ]
  },
  {
   "cell_type": "code",
   "execution_count": 10,
   "metadata": {},
   "outputs": [
    {
     "name": "stdout",
     "output_type": "stream",
     "text": [
      "Snow White\n",
      "Snow White and the Seven Dwarfs\n"
     ]
    }
   ],
   "source": [
    "film := \"Snow White\"\n",
    "princess := film\n",
    "film += \" and the Seven Dwarfs\"\n",
    "fmt.Sprint(princess, \"\\n\", film)"
   ]
  },
  {
   "cell_type": "markdown",
   "metadata": {},
   "source": [
    "Как видно из этого примера после добавления новой строки к переменной film, исходная строка на которую указывала эта переменная, не изменилась, т.е. переменная princess всё также хранит значение \"Snow White\". Переменная film после последнего присваивания хранит уже новую строку."
   ]
  },
  {
   "cell_type": "markdown",
   "metadata": {},
   "source": [
    "## Строковые литералы"
   ]
  }
 ],
 "metadata": {
  "kernelspec": {
   "display_name": "Go (lgo)",
   "language": "go",
   "name": "lgo"
  },
  "language_info": {
   "file_extension": "",
   "mimetype": "",
   "name": "go",
   "version": ""
  }
 },
 "nbformat": 4,
 "nbformat_minor": 2
}
