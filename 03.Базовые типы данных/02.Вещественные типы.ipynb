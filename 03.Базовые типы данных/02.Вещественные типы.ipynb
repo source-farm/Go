{
 "cells": [
  {
   "cell_type": "markdown",
   "metadata": {},
   "source": [
    "# Вещественные типы"
   ]
  },
  {
   "cell_type": "markdown",
   "metadata": {},
   "source": [
    "Для работы с вещественными числами в Go используются типы **float32** и **float64**. Работа этих типов идёт в соответствии с стандартом **IEEE 754**. Верхнюю границу этих типов можно получить из пакета math:"
   ]
  },
  {
   "cell_type": "code",
   "execution_count": 1,
   "metadata": {},
   "outputs": [
    {
     "name": "stdout",
     "output_type": "stream",
     "text": [
      "3.4028234663852886e+38\n",
      "1.7976931348623157e+308\n",
      "\n"
     ]
    }
   ],
   "source": [
    "import \"fmt\"\n",
    "import \"math\"\n",
    "\n",
    "fmt.Println(math.MaxFloat32)\n",
    "fmt.Sprintln(math.MaxFloat64)"
   ]
  },
  {
   "cell_type": "markdown",
   "metadata": {},
   "source": [
    "Мин. положительные значения для float32 и float64 находятся около 1.4e-45 и 4.9е-324 соответственно. float32 предоставляет точность примерно в __6__ знаков после запятой, float64 - **15**. По возможности нужно пользоваться типом float64 в вычислениях, т.к. float32 накапливает ошибки довольно быстро и наименьшее положительное целое число, которое можно точно представить с помощью float32 является не очень большим:"
   ]
  },
  {
   "cell_type": "code",
   "execution_count": 2,
   "metadata": {},
   "outputs": [
    {
     "name": "stdout",
     "output_type": "stream",
     "text": [
      "true\n",
      "false\n"
     ]
    }
   ],
   "source": [
    "var f32 float32 = 16777216\n",
    "fmt.Println(f32 == f32 + 1)\n",
    "\n",
    "var f64 float64 = 16777216\n",
    "fmt.Sprint(f64 == f64 + 1)"
   ]
  },
  {
   "cell_type": "markdown",
   "metadata": {},
   "source": [
    "Для вывода вещественных чисел используются глаголы **%g**, **%f** и **%e**.\n",
    "\n",
    "В дополнение к большому количеству математических функций пакет math также предоставляет функции для создания и обнаружения **специальных значений**, определённых в стандарте IEEE 754: положительная и отрицательная бесконечности и результат деления на ноль:"
   ]
  },
  {
   "cell_type": "code",
   "execution_count": 3,
   "metadata": {},
   "outputs": [
    {
     "name": "stdout",
     "output_type": "stream",
     "text": [
      "0 -0 +Inf -Inf NaN\n",
      "true\n",
      "\n"
     ]
    }
   ],
   "source": [
    "var z float64\n",
    "fmt.Println(z, -z, 1/z, -1/z, z/z)\n",
    "fmt.Sprintln(math.IsNaN(z/z))"
   ]
  }
 ],
 "metadata": {
  "kernelspec": {
   "display_name": "Go (lgo)",
   "language": "go",
   "name": "lgo"
  },
  "language_info": {
   "file_extension": "",
   "mimetype": "",
   "name": "go",
   "version": ""
  }
 },
 "nbformat": 4,
 "nbformat_minor": 2
}
