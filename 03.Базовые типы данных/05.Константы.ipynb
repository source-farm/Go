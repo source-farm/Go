{
 "cells": [
  {
   "cell_type": "markdown",
   "metadata": {},
   "source": [
    "# Константы"
   ]
  },
  {
   "cell_type": "markdown",
   "metadata": {},
   "source": [
    "Константами являются выражения, значение которых известно компилятору и вычисляются они во время компиляции, а не во время выполнения программы(runtime). Базовым типом для константы может быть только булев тип, строка или числовой тип(целые, вещественные и комплексные числа, а также руны).  \n",
    "\n",
    "Объявление **const** определяет именованное значение, которое синтаксически выглядит как переменная, но его значение нельзя изменить во время выполнения программы. Пример константы:"
   ]
  },
  {
   "cell_type": "markdown",
   "metadata": {},
   "source": [
    "## Строковые константы"
   ]
  },
  {
   "cell_type": "markdown",
   "metadata": {},
   "source": [
    "Строковой константой называется текст между двойными кавычками(в Go есть и необработанные(raw) строки, которые заключаются в одинарные кавычки, но для этой главы это не имеет значения). Пример строковой константы:"
   ]
  },
  {
   "cell_type": "code",
   "execution_count": 1,
   "metadata": {},
   "outputs": [
    {
     "name": "stdout",
     "output_type": "stream",
     "text": [
      "Hello, 世界\n"
     ]
    }
   ],
   "source": [
    "\"Hello, 世界\""
   ]
  },
  {
   "cell_type": "markdown",
   "metadata": {},
   "source": [
    "Какого типа эта строковая константа? Очевидным и неверным ответом является string. На самом деле эта константа является так называемой **нетипизированной строковой константой**. Нетипизированные строковые константы обозначают константный текст, который ещё не имеет какого-либо фиксированного типа. Да это строка, но она не является значением Go типа string. Она остаётся нетипизированной строковой константой даже если дать ей имя:"
   ]
  },
  {
   "cell_type": "code",
   "execution_count": 2,
   "metadata": {},
   "outputs": [],
   "source": [
    "const hello = \"Hello, 世界\""
   ]
  },
  {
   "cell_type": "markdown",
   "metadata": {},
   "source": [
    "После этого объявления hello тоже является нетипизированной строковой константой. Нетипизированные константы являются просто значениями, у которых нет определённого типа, наличие которого заставило бы их следовать более строгим правилам, которые мешали бы комбинировать их с значениями других типов. Именно **нетипизированность** констант позволяет использовать их с большой свободой в Go.\n",
    "\n",
    "Тогда возникает вопрос: что же такое **типизированная** строковая константа? Всё очень просто: строковая константа, для которой явно указан тип:"
   ]
  },
  {
   "cell_type": "code",
   "execution_count": 3,
   "metadata": {},
   "outputs": [],
   "source": [
    "const typedHello string = \"Hello, 世界\""
   ]
  },
  {
   "cell_type": "markdown",
   "metadata": {},
   "source": [
    "Т.к. при объявлении константы typedHello был явно указан её тип, нельзя пользоваться этой константой при работе с другими типами. Т.е. следующий код работает:"
   ]
  },
  {
   "cell_type": "code",
   "execution_count": 4,
   "metadata": {},
   "outputs": [
    {
     "name": "stdout",
     "output_type": "stream",
     "text": [
      "Hello, 世界\n"
     ]
    }
   ],
   "source": [
    "import \"fmt\"\n",
    "\n",
    "var s string\n",
    "s = typedHello\n",
    "fmt.Sprint(s)"
   ]
  },
  {
   "cell_type": "markdown",
   "metadata": {},
   "source": [
    "а следующий нет:"
   ]
  },
  {
   "cell_type": "code",
   "execution_count": 5,
   "metadata": {},
   "outputs": [
    {
     "name": "stderr",
     "output_type": "stream",
     "text": [
      "4:5: cannot use typedHello (constant \"Hello, 世界\" of type string) as MyString value in assignment\n"
     ]
    }
   ],
   "source": [
    "type MyString string\n",
    "\n",
    "var m MyString\n",
    "m = typedHello\n",
    "fmt.Sprint(m)"
   ]
  },
  {
   "cell_type": "markdown",
   "metadata": {},
   "source": [
    "Переменная m имеет тип MyString, а следовательно ей нельзя присваивать значения других типов(без явного приведения, при условии что это приведение возможно, т.е. когда у типов одинаковый базовый тип). Ей можно присваивать только значения типа MyString:"
   ]
  },
  {
   "cell_type": "code",
   "execution_count": 6,
   "metadata": {},
   "outputs": [
    {
     "name": "stdout",
     "output_type": "stream",
     "text": [
      "Hello, 世界\n"
     ]
    }
   ],
   "source": [
    "type MyString string\n",
    "\n",
    "const myStringHello MyString = \"Hello, 世界\"\n",
    "var m MyString\n",
    "m = myStringHello\n",
    "fmt.Sprint(m)"
   ]
  },
  {
   "cell_type": "markdown",
   "metadata": {},
   "source": [
    "Нетипизированные строковые константы благодаря отсутствию типа можно присваивать типизированным переменным, совместимым со строковым типом(т.е. имеющим базовый тип string). Т.е. следующий код работает:"
   ]
  },
  {
   "cell_type": "code",
   "execution_count": 7,
   "metadata": {},
   "outputs": [],
   "source": [
    "m = \"Hello, 世界\""
   ]
  },
  {
   "cell_type": "markdown",
   "metadata": {},
   "source": [
    "также как и этот:"
   ]
  },
  {
   "cell_type": "code",
   "execution_count": 8,
   "metadata": {},
   "outputs": [],
   "source": [
    "m = hello"
   ]
  },
  {
   "cell_type": "markdown",
   "metadata": {},
   "source": [
    "## Тип по-умолчанию"
   ]
  },
  {
   "cell_type": "markdown",
   "metadata": {},
   "source": [
    "Если константы могут быть нетипизированными(как в случае строкового литерала), то возникает **вопрос**: как работает следующий код?"
   ]
  },
  {
   "cell_type": "code",
   "execution_count": 9,
   "metadata": {},
   "outputs": [
    {
     "name": "stdout",
     "output_type": "stream",
     "text": [
      "string\n"
     ]
    }
   ],
   "source": [
    "str := \"Hello, 世界\"\n",
    "fmt.Sprintf(\"%T\", str)"
   ]
  },
  {
   "cell_type": "markdown",
   "metadata": {},
   "source": [
    "Почему переменная str получила тип string, если \"Hello, 世界\" является нетипизированной строковой константой? Дело в том, что нетипизированные константы имеют так называемый **тип по-умолчанию**(default type) - неявный тип, который передаётся значению, когда тип не указан. Для нетипизированных строковых констант очевидно типом по-умолчанию является тип string. Таким образом выражения:"
   ]
  },
  {
   "cell_type": "code",
   "execution_count": 10,
   "metadata": {},
   "outputs": [],
   "source": [
    "str := \"Hello, 世界\""
   ]
  },
  {
   "cell_type": "markdown",
   "metadata": {},
   "source": [
    "и"
   ]
  },
  {
   "cell_type": "code",
   "execution_count": 11,
   "metadata": {},
   "outputs": [],
   "source": [
    "var str = \"Hello, 世界\""
   ]
  },
  {
   "cell_type": "markdown",
   "metadata": {},
   "source": [
    "эквивалентны выражению:"
   ]
  },
  {
   "cell_type": "code",
   "execution_count": 12,
   "metadata": {},
   "outputs": [],
   "source": [
    "var str string = \"Hello, 世界\""
   ]
  },
  {
   "cell_type": "markdown",
   "metadata": {},
   "source": [
    "О нетипизированных константах можно думать как о значениях, которые находятся в неком идеальном пространстве значений, которое является менее ограниченным, чем пространство, в которой работает система типов Go. Но чтобы сделать что-либо с константами нам нужно присвоить их переменным и когда это случается, переменным(не константам) нужен тип и константа может сказать, какого типа должна быть переменная, используя свой тип по-умолчанию.\n",
    "\n",
    "Иногда при использовании констант бывает неочевидна конечная цель значения. Рассмотрим выражение:"
   ]
  },
  {
   "cell_type": "code",
   "execution_count": 13,
   "metadata": {},
   "outputs": [
    {
     "name": "stdout",
     "output_type": "stream",
     "text": [
      "Hello, 世界\n"
     ]
    }
   ],
   "source": [
    "fmt.Sprintf(\"%s\", \"Hello, 世界\")"
   ]
  },
  {
   "cell_type": "markdown",
   "metadata": {},
   "source": [
    "fmt.Sprintf имеет следующую сигнатуру:\n",
    "\n",
    "func Sprintf(format string, a ...interface{}) string\n",
    "\n",
    "Из неё видно, что агрументы после format имеют интерфейсный тип. При вызове функции Sprintf с нетипизированными константами создаются интерфейсные значения для передачи аргументов и конкретный тип каждого аргумента равен типу по-умолчанию передаваемой нетипизированной константы. Именно это и происходит в следующем коде:"
   ]
  },
  {
   "cell_type": "code",
   "execution_count": 14,
   "metadata": {},
   "outputs": [
    {
     "name": "stdout",
     "output_type": "stream",
     "text": [
      "string: Hello, 世界\n"
     ]
    }
   ],
   "source": [
    "fmt.Sprintf(\"%T: %v\", \"Hello, 世界\", \"Hello, 世界\")"
   ]
  },
  {
   "cell_type": "markdown",
   "metadata": {},
   "source": [
    "В общем типизированные константы подчиняются всем правилам типов в Go. Нетипизированные константы благодаря отсутствию типа позволяют работать с ними более свободно. Однако они имеют тип по-умолчанию, который используется при отсутствии какой-либо другой информации о типе."
   ]
  }
 ],
 "metadata": {
  "kernelspec": {
   "display_name": "Go (lgo)",
   "language": "go",
   "name": "lgo"
  },
  "language_info": {
   "file_extension": "",
   "mimetype": "",
   "name": "go",
   "version": ""
  }
 },
 "nbformat": 4,
 "nbformat_minor": 2
}
