{
 "cells": [
  {
   "cell_type": "markdown",
   "metadata": {},
   "source": [
    "# Общая информация"
   ]
  },
  {
   "cell_type": "markdown",
   "metadata": {},
   "source": [
    "Типы данных в Go можно разделить на 4 класса:  \n",
    "**Базовые**: все числовые типы, строки и булев тип.  \n",
    "**Агрегированные**(aggregate): массивы и структуры.  \n",
    "**Ссылочные**:  указатели, слайсы, словари, функции и каналы.  \n",
    "**Интерфейсный**: интерфейс."
   ]
  }
 ],
 "metadata": {
  "kernelspec": {
   "display_name": "Go (lgo)",
   "language": "go",
   "name": "lgo"
  },
  "language_info": {
   "file_extension": "",
   "mimetype": "",
   "name": "go",
   "version": ""
  }
 },
 "nbformat": 4,
 "nbformat_minor": 2
}
