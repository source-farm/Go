{
 "cells": [
  {
   "cell_type": "markdown",
   "metadata": {},
   "source": [
    "# Булев тип"
   ]
  },
  {
   "cell_type": "markdown",
   "metadata": {},
   "source": [
    "Переменные типа **bool** могут принимать только два значения: **true** или **false**. Результатом выполнения операции сравнения является значение типа bool. Булевы значения можно объединять с помощью **&&**(AND) или **||**(OR), при этом если при вычислении логического выражения слева направо ответ уже не зависит от выражений, стоящих в правой части, то эти выражения не вычисляются и результат определяется сразу. Т.е. можно выполнять сравнения следующего вида:"
   ]
  },
  {
   "cell_type": "code",
   "execution_count": 1,
   "metadata": {},
   "outputs": [
    {
     "name": "stdout",
     "output_type": "stream",
     "text": [
      "Empty string\n"
     ]
    }
   ],
   "source": [
    "import \"fmt\"\n",
    "\n",
    "var str string\n",
    "if str != \"\" && str[0] == 'H' {\n",
    "    fmt.Println(\"Starts with 'H'\")\n",
    "} else {\n",
    "    fmt.Println(\"Empty string\")\n",
    "}"
   ]
  },
  {
   "cell_type": "markdown",
   "metadata": {},
   "source": [
    "Неявное преобразование булевых значений в целочисленные или наоборот **не выполняется**. Явное преобразование также выдаёт **ошибку компиляции**. Поэтому для преобразования нужно писать свои функции, если в этом есть большая необходимость."
   ]
  }
 ],
 "metadata": {
  "kernelspec": {
   "display_name": "Go (lgo)",
   "language": "go",
   "name": "lgo"
  },
  "language_info": {
   "file_extension": "",
   "mimetype": "",
   "name": "go",
   "version": ""
  }
 },
 "nbformat": 4,
 "nbformat_minor": 2
}
