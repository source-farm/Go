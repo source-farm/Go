{
 "cells": [
  {
   "cell_type": "markdown",
   "metadata": {},
   "source": [
    "# Пакеты и файлы"
   ]
  },
  {
   "cell_type": "markdown",
   "metadata": {},
   "source": [
    "**Пакеты** в Go являются аналогом библиотек или модулей в других языках и вносит в программу модульность, инкапсуляцию, раздельную компиляцию и усиливает повторное использование кода. Код пакета располагается в одном или нескольких **.go** файлах, которые в свою очередь находятся в папке, название которой обычно совпадает с названием пакета. Каждый пакет формирует отдельное **пространство имён**(name space) для находящихся внутри него объявлений. Пакет также скрывает ненужную для его использования информацию от клиента(инкапсуляция): объявления, которые начинаются с большой буквы **экспортируются** из пакета; остальные объявления касаются только внутренних механизмов работы пакета и не нужны клиенту."
   ]
  },
  {
   "cell_type": "markdown",
   "metadata": {},
   "source": [
    "Для примера рассмотрим собственный пакет под названием \"fish\". Этот пакет находится в папке fish, которая находится в том же месте, что и этот блокнот. Пакет \"fish\" состоит из трёх файлов: kind.go, desc.go, fish.go. Код в этих файлах представлен ниже:"
   ]
  },
  {
   "cell_type": "markdown",
   "metadata": {},
   "source": [
    "### kind.go\n",
    "Файл kind.go содержит описание видов рыб. Т.к. тип FishKind начинается с большой буквы, то он экспортируется, т.е. клиенты могут создать переменные такого типа."
   ]
  },
  {
   "cell_type": "code",
   "execution_count": null,
   "metadata": {},
   "outputs": [],
   "source": [
    "package fish\n",
    "\n",
    "type FishKind int\n",
    "\n",
    "const (\n",
    "\tSea        = 0\n",
    "\tFreshWater = 1\n",
    "\tUnknown    = 2\n",
    ")"
   ]
  },
  {
   "cell_type": "markdown",
   "metadata": {},
   "source": [
    "### desc.go\n",
    "Файл desc.go содержит описание различных видов рыб. В этом файле и тип description и словарь fishDesc начинаются с маленькой буквы, поэтому эти объявления не экпортируются, но к ним можно обращаться из других файлов этого же пакета как это делается в файле fish.go."
   ]
  },
  {
   "cell_type": "code",
   "execution_count": null,
   "metadata": {},
   "outputs": [],
   "source": [
    "package fish\n",
    "\n",
    "type description struct {\n",
    "\tkind       FishKind\n",
    "\tmainColor  string\n",
    "\tendangered bool\n",
    "}\n",
    "\n",
    "var fishDesc map[string]description = map[string]description{\n",
    "\t\"Salmon\": {Sea, \"grey, white\", false},\n",
    "\t\"Trout\":  {FreshWater, \"green, white, red\", false},\n",
    "}\n"
   ]
  },
  {
   "cell_type": "markdown",
   "metadata": {},
   "source": [
    "### fish.go\n",
    "Файл fish.go содержит только одну экспортируемую функцию, которая возвращает вид рыбы по её имени. Т.к. словарь fishDesc находится в том же пакете, что и этот файл, к этому словарю можно обращаться даже несмотря на то, что он начинается с маленькой буквы."
   ]
  },
  {
   "cell_type": "code",
   "execution_count": null,
   "metadata": {},
   "outputs": [],
   "source": [
    "package fish\n",
    "\n",
    "func Kind(fishName string) FishKind {\n",
    "\tdesc, ok := fishDesc[fishName]\n",
    "\tif ok {\n",
    "\t\treturn desc.kind\n",
    "\t}\n",
    "\treturn Unknown\n",
    "}"
   ]
  },
  {
   "cell_type": "markdown",
   "metadata": {},
   "source": [
    "Этот пакет мог бы быть использован, например, следующим образом:"
   ]
  },
  {
   "cell_type": "code",
   "execution_count": null,
   "metadata": {},
   "outputs": [],
   "source": [
    "package main\n",
    "\n",
    "import (\n",
    "\t\"fish\"\n",
    "\t\"fmt\"\n",
    ")\n",
    "\n",
    "func main() {\n",
    "\tif fish.Kind(\"Salmon\") == fish.Sea {\n",
    "\t\tfmt.Println(\"Salmon is sea fish.\")\n",
    "\t}\n",
    "}"
   ]
  },
  {
   "cell_type": "markdown",
   "metadata": {},
   "source": [
    "Чтобы этот код работал, необходимо папку fish скопировать в $GOPATH/src. Этот код находится в файле others/fishUseExample.go"
   ]
  }
 ],
 "metadata": {
  "kernelspec": {
   "display_name": "Go (lgo)",
   "language": "go",
   "name": "lgo"
  },
  "language_info": {
   "file_extension": "",
   "mimetype": "",
   "name": "go",
   "version": ""
  }
 },
 "nbformat": 4,
 "nbformat_minor": 2
}
