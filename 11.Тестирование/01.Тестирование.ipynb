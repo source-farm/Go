{
 "cells": [
  {
   "cell_type": "markdown",
   "metadata": {},
   "source": [
    "# Тестирование"
   ]
  },
  {
   "cell_type": "markdown",
   "metadata": {},
   "source": [
    "Для проведения тестов в Go используется команда **go test**, которая работает благодаря множеству принятых соглашений для написания тестовых функций. Этот сравнительно простой механизм эффективен для чистого тестирования и естественным образом расширяется на тесты проверки производительности(benchmark)."
   ]
  },
  {
   "cell_type": "markdown",
   "metadata": {},
   "source": [
    "## Инструмент go test"
   ]
  },
  {
   "cell_type": "markdown",
   "metadata": {},
   "source": [
    "Команда go test используется в Go для проведения тестов. В папке пакета файлы, которые оканчиваются на **\\_test.go** не включаются в сборку при использовании команды go build. Эти файлы содержат тестировочный код, который будет включен в сборку пакета при вызове команды go test.\n",
    "\n",
    "Внутри \\*\\_test.go файлов находятся **три вида** функций:\n",
    "1. Функции для проведения тестирования. Тестовые функции(test function) начинаются на **Test** и проверяют некоторую часть программы на правильную работу; go test вызывает эти функции и выводит результат: PASS или FAIL.\n",
    "2. Функции для проверки производительности(benchmark). Бенчмарк функции начинаются на **Benchmark** и проверяют производительность некоторых операций; go test выводит среднее время выполнения операций.\n",
    "3. Демонстрационные функции(example function). Такие функции начинаются на **Example** и используются для показа возможностей пакета."
   ]
  },
  {
   "cell_type": "markdown",
   "metadata": {},
   "source": [
    "## Тестовые функции"
   ]
  },
  {
   "cell_type": "markdown",
   "metadata": {},
   "source": [
    "Каждый тестовый файл должен импортировать пакет **testing**. Тестовые функции должны иметь следующую сигнатуру:"
   ]
  },
  {
   "cell_type": "code",
   "execution_count": null,
   "metadata": {},
   "outputs": [],
   "source": [
    "func Test<Name>(t *testing.T) {\n",
    "    // ...\n",
    "}"
   ]
  },
  {
   "cell_type": "markdown",
   "metadata": {},
   "source": [
    "Необъязательный суффикс Name должен начинаться с большой буквы. Параметр t предоставляет методы для вывода отчёта о проведении теста и логировании допольнительной информации.\n",
    "\n",
    "Для примера давайте представим, что у нас есть пакет word, который содержит функцию для проверки является ли строка палиндромом:"
   ]
  },
  {
   "cell_type": "code",
   "execution_count": null,
   "metadata": {},
   "outputs": [],
   "source": [
    "package word\n",
    "\n",
    "func IsPalindrome(s string) bool {\n",
    "\tfor i := range s {\n",
    "\t\tif s[i] != s[len(s)-i-1] {\n",
    "\t\t\treturn false\n",
    "\t\t}\n",
    "\t}\n",
    "\treturn true\n",
    "}"
   ]
  },
  {
   "cell_type": "markdown",
   "metadata": {},
   "source": [
    "Для тестирования этой функции мы должны добавить в ту же папку, где находится этот файл ещё один файл с именем word_test.go, в которую мы добавим две функции:"
   ]
  },
  {
   "cell_type": "code",
   "execution_count": null,
   "metadata": {},
   "outputs": [],
   "source": [
    "package word\n",
    "\n",
    "import \"testing\"\n",
    "\n",
    "func TestPalindrome(t *testing.T) {\n",
    "\tif !IsPalindrome(\"detartrated\") {\n",
    "\t\tt.Error(`IsPalindrome(\"detartrated\") = false`)\n",
    "\t}\n",
    "\tif !IsPalindrome(\"kayak\") {\n",
    "\t\tt.Error(`IsPalindrome(\"kayak\") = false`)\n",
    "\t}\n",
    "}\n",
    "\n",
    "func TestNonPalindrome(t *testing.T) {\n",
    "\tif IsPalindrome(\"palindrome\") {\n",
    "\t\tt.Error(`IsPalindrome(\"palindrome\") = true`)\n",
    "\t}\n",
    "}"
   ]
  },
  {
   "cell_type": "markdown",
   "metadata": {},
   "source": [
    "Команда go test без явного указания пакета тестирует пакет в текущей папке. Поэтому для тестирования этого пакета необходимо перейти в его папку и вызвать команду go test. Эти тесты пакет проходит, но тесты с неанглийскими буквами или пунктуацией нет:"
   ]
  },
  {
   "cell_type": "code",
   "execution_count": null,
   "metadata": {},
   "outputs": [],
   "source": [
    "func TestFrenchPalindrome(t *testing.T) {\n",
    "\tif !IsPalindrome(\"été\") {\n",
    "\t\tt.Error(`IsPalindrome(\"été\") = false`)\n",
    "\t}\n",
    "}\n",
    "\n",
    "func TestCanalPalindrome(t *testing.T) {\n",
    "\tinput := \"A man, a plan, a canal: Panama\"\n",
    "\tif !IsPalindrome(input) {\n",
    "\t\tt.Errorf(`IsPalindrome(%q) = false`, input)\n",
    "\t}\n",
    "}"
   ]
  },
  {
   "cell_type": "markdown",
   "metadata": {},
   "source": [
    "Для исправления этих ошибок мы можем переписать IsPalindrome так:"
   ]
  },
  {
   "cell_type": "code",
   "execution_count": null,
   "metadata": {},
   "outputs": [],
   "source": [
    "package word\n",
    "\n",
    "import \"unicode\"\n",
    "\n",
    "func IsPalindrome(s string) bool {\n",
    "\tvar letters []rune\n",
    "\tfor _, r := range s {\n",
    "\t\tif unicode.IsLetter(r) {\n",
    "\t\t\tletters = append(letters, unicode.ToLower(r))\n",
    "\t\t}\n",
    "\t}\n",
    "\tfor i := range letters {\n",
    "\t\tif letters[i] != letters[len(letters)-i-1] {\n",
    "\t\t\treturn false\n",
    "\t\t}\n",
    "\t}\n",
    "\treturn true\n",
    "}"
   ]
  },
  {
   "cell_type": "markdown",
   "metadata": {},
   "source": [
    "Также в Go является довольно распространённым написание тестов в виде таблицы входных данных и ожидаемого результата. Для нашего примера можно составить такую таблицу для тестирования:"
   ]
  },
  {
   "cell_type": "code",
   "execution_count": null,
   "metadata": {},
   "outputs": [],
   "source": [
    "func TestIsPalindrome(t *testing.T) {\n",
    "\tvar tests = []struct {\n",
    "\t\tinput string\n",
    "\t\twant  bool\n",
    "\t}{\n",
    "\t\t{\"\", true},\n",
    "\t\t{\"a\", true},\n",
    "\t\t{\"aa\", true},\n",
    "\t\t{\"ab\", false},\n",
    "\t\t{\"kayak\", true},\n",
    "\t\t{\"detartrated\", true},\n",
    "\t\t{\"A man, a plan, a canal: Panama\", true},\n",
    "\t\t{\"Evil I did dwell; lewd did I live.\", true},\n",
    "\t\t{\"Able was I ere I saw Elba\", true},\n",
    "\t\t{\"été\", true},\n",
    "\t\t{\"Et se resservir, ivresse reste.\", true},\n",
    "\t\t{\"palindrome\", false},\n",
    "\t\t{\"desserts\", false},\n",
    "\t}\n",
    "\tfor _, test := range tests {\n",
    "\t\tif got := IsPalindrome(test.input); got != test.want {\n",
    "\t\t\tt.Errorf(\"IsPalindrome(%q) = %v\", test.input, got)\n",
    "\t\t}\n",
    "\t}\n",
    "}"
   ]
  },
  {
   "cell_type": "markdown",
   "metadata": {},
   "source": [
    "Команда go test -v выводит имя и время выполнения каждого теста, а флаг -run, аргументом которого является регулярное выражение, позволяет выбрать определённые тесты для выполнения.\n",
    "\n",
    "Методы Error и Errorf не останавливают выполнение тестирования, если какой-либо тест будет провален. Если тестирование нужно остановить, то можно воспользоваться методами Fatal и Fatalf."
   ]
  }
 ],
 "metadata": {
  "kernelspec": {
   "display_name": "Go (lgo)",
   "language": "go",
   "name": "lgo"
  },
  "language_info": {
   "file_extension": "",
   "mimetype": "",
   "name": "go",
   "version": ""
  }
 },
 "nbformat": 4,
 "nbformat_minor": 2
}
