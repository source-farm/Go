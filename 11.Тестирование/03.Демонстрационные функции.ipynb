{
 "cells": [
  {
   "cell_type": "markdown",
   "metadata": {},
   "source": [
    "# Демонстрационные функции"
   ]
  },
  {
   "cell_type": "markdown",
   "metadata": {},
   "source": [
    "Демонстрационные функции начинаются с **Example** и не имеют ни входных ни выходных параметров. Пример:"
   ]
  },
  {
   "cell_type": "code",
   "execution_count": null,
   "metadata": {},
   "outputs": [],
   "source": [
    "func ExampleIsPalindrome() {\n",
    "    fmt.Println(IsPalindrome(\"A man, a plan, a canal: Panama\"))\n",
    "    fmt.Println(IsPalindrome(\"palindrome\"))\n",
    "    // Output:\n",
    "    // true\n",
    "    // false\n",
    "}"
   ]
  },
  {
   "cell_type": "markdown",
   "metadata": {},
   "source": [
    "Демонстрационные функции используются для трёх целей:\n",
    "1. Документирование кода. Хороший пример может быть более коротким и интуитивным способом объяснить поведение библиотечной функции, чем описывать всё текстом.\n",
    "2. Если в конце демонстрационной функции есть комментарий //Output:, то такая функция является также и тестовой и при тестировании будет проверено равен ли текст, напечатанный функцией на стандартный вывод тому, что указано после //Output:.\n",
    "3. Проведение экспериментов. Сервер godoc на golang.org использует Go Playground, чтобы пользователи могли редактировать и запускать демонстрационные функции прямо в браузере."
   ]
  }
 ],
 "metadata": {
  "kernelspec": {
   "display_name": "Go (lgo)",
   "language": "go",
   "name": "lgo"
  },
  "language_info": {
   "file_extension": "",
   "mimetype": "",
   "name": "go",
   "version": ""
  }
 },
 "nbformat": 4,
 "nbformat_minor": 2
}
