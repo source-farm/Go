{
 "cells": [
  {
   "cell_type": "markdown",
   "metadata": {},
   "source": [
    "# Мютексы"
   ]
  },
  {
   "cell_type": "markdown",
   "metadata": {},
   "source": [
    "В пакете sync стандартной библиотеки Go есть тип Mutex, который можно использовать для реализации синхронного доступа к данным. Наш пример из предыдущей главы:"
   ]
  },
  {
   "cell_type": "code",
   "execution_count": null,
   "metadata": {},
   "outputs": [],
   "source": [
    "import \"sync\"\n",
    "\n",
    "var (\n",
    "\tmu      sync.Mutex\n",
    "\tbalance int\n",
    ")\n",
    "\n",
    "func Deposit(amount int) {\n",
    "\tmu.Lock()\n",
    "\tbalance += amount\n",
    "\tmu.Unlock()\n",
    "}\n",
    "\n",
    "func Balance() int {\n",
    "\tmu.Lock()\n",
    "\tdefer mu.Unlock()\n",
    "\treturn balance\n",
    "}"
   ]
  },
  {
   "cell_type": "markdown",
   "metadata": {},
   "source": [
    "Мютекс mu защищает разделяюмую переменную balance вызовами Lock и Unlock, чтобы только одна горутина могла иметь доступ к этой переменной в конкретный момент времени. Обычно защищаемую переменную размещают сразу за мютексом, который используется для её защиты. Если это правило не соблюдается, то необходимо чётко это задокументировать.\n",
    "\n",
    "Область между методами Lock и Unlock называют **критической секцией**(critical section).\n",
    "\n",
    "В Go также есть мютекс, который позволяет вычитывать данные одновременно нескольким горутинам, но предоставляет эксклюзивный доступ при записи. Реализуется такое поведение с помощью Read/Write мютекса из пакета sync: sync.RWMutex.\n",
    "\n",
    "Примитивы синхронизации не только приводят к синхронному доступу к данным, но также сбрасывают(flush) кэш процессора, чтобы все накопленные изменения переменных стали видны и другим горутинам. Как это ни странно, но следующий код в теории может привести к выводу вида \"x:0 y:0\" или \"y:0 x:0\":"
   ]
  },
  {
   "cell_type": "code",
   "execution_count": null,
   "metadata": {},
   "outputs": [],
   "source": [
    "var x, y int\n",
    "\n",
    "go func() {\n",
    "    x = 1\n",
    "    fmt.Print(\"y:\", y, \" \")\n",
    "}()\n",
    "\n",
    "go func() {\n",
    "    y = 1\n",
    "    fmt.Print(\"x:\", x, \" \")\n",
    "}()"
   ]
  }
 ],
 "metadata": {
  "kernelspec": {
   "display_name": "Go (lgo)",
   "language": "go",
   "name": "lgo"
  },
  "language_info": {
   "file_extension": "",
   "mimetype": "",
   "name": "go",
   "version": ""
  }
 },
 "nbformat": 4,
 "nbformat_minor": 2
}
