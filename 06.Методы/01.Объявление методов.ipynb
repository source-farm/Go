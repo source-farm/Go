{
 "cells": [
  {
   "cell_type": "markdown",
   "metadata": {},
   "source": [
    "# Объявление методов"
   ]
  },
  {
   "cell_type": "markdown",
   "metadata": {},
   "source": [
    "Объявление метода напоминает объявление функции, но дополнительно появляется ещё один параметр перед названием функции. Этот параметр связывает метод с типом."
   ]
  },
  {
   "cell_type": "code",
   "execution_count": 1,
   "metadata": {},
   "outputs": [],
   "source": [
    "import \"math\"\n",
    "\n",
    "type Point struct {\n",
    "    X float64\n",
    "    Y float64\n",
    "}\n",
    "\n",
    "// Обычная функция.\n",
    "func Distance(p, q Point) float64 {\n",
    "    return math.Hypot(q.X - p.X, q.Y - p.Y)\n",
    "}\n",
    "\n",
    "// Метод для типа Point.\n",
    "func (p Point) Distance(q Point) float64 {\n",
    "    return math.Hypot(q.X - p.X, q.Y - p.Y)\n",
    "}"
   ]
  },
  {
   "cell_type": "markdown",
   "metadata": {},
   "source": [
    "Дополнительный параметр p называют **получателем**(receiver) метода, наследство от первых ООП языков, в которых вызов метода назывался \"отправкой сообщения объекту\".\n",
    "\n",
    "В Go не принято называть получатель специальным именем типа this или self. Он называется также как и обычный параметр функции. Т.к. имя получателя будет использоваться довольно часто, желательно подобрать ему короткое имя и использовать именно его во всех методах. Обычно выбирают **первую букву** типа как p для Point в нашем примере.\n",
    "\n",
    "Для вызова метода сначала указывают получатель, а затем через точку метод:"
   ]
  },
  {
   "cell_type": "code",
   "execution_count": 2,
   "metadata": {},
   "outputs": [
    {
     "name": "stdout",
     "output_type": "stream",
     "text": [
      "5\n"
     ]
    }
   ],
   "source": [
    "import \"fmt\"\n",
    "p1 := Point{1, 2}\n",
    "p2 := Point{4, 6}\n",
    "d := p1.Distance(p2) // Вызов метода.\n",
    "fmt.Sprint(d)"
   ]
  },
  {
   "cell_type": "markdown",
   "metadata": {},
   "source": [
    "Между объявлением функции Distance и методом Distance типа Point нет никакого конфликта: функция Distance является функцией уровня пакета, а метод принадлежит типу Point.\n",
    "\n",
    "Выражение p.Distance называется **селектором**(selector), т.к. он выбирает метод Distance получателя p. Селекторы также используются для выбора полей, как например, p.X. Т.к. методы и поля типа находятся в одном и том же пространстве имён, нельзя давать им одинаковые имена.\n",
    "\n",
    "Т.к. каждый тип определяет своё собственное пространство имён, можно объявлить метод Distance и для другого типа:"
   ]
  },
  {
   "cell_type": "code",
   "execution_count": 3,
   "metadata": {},
   "outputs": [],
   "source": [
    "type Path []Point\n",
    "\n",
    "func (p Path) Distance() float64 {\n",
    "    sum := 0.0\n",
    "    for i := range p {\n",
    "        if i > 0 {\n",
    "            sum += p[i-1].Distance(p[i])    \n",
    "        }\n",
    "    }\n",
    "    return sum\n",
    "}"
   ]
  },
  {
   "cell_type": "markdown",
   "metadata": {},
   "source": [
    "Path является именованным типом, а не структурой как в случае с Point, но всё равно для него тоже можно определить метод. Иногда бывает удобно определить новые методы для простых типов как числовой, строковый и т.д., т.к. мы  получаем функционал этих базовых типов бесплатно. Методы можно объявить для любого именованного типа в этом же пакете, кроме типов, для которых базовым типом является указатель или интерфейс."
   ]
  },
  {
   "cell_type": "markdown",
   "metadata": {},
   "source": [
    "## Получатель-указатель"
   ]
  },
  {
   "cell_type": "markdown",
   "metadata": {},
   "source": [
    "Т.к. при передаче аргумента в функции создаётся его копия, для возможности изменения самой переменной необходимо передать в функцию её адрес. То же самое касается и методов, которым нужно обновить получатель: эти методы необходимо связывать с **указателем** на тип:"
   ]
  },
  {
   "cell_type": "code",
   "execution_count": 4,
   "metadata": {},
   "outputs": [],
   "source": [
    "import \"math\"\n",
    "\n",
    "type Point struct {\n",
    "    X float64\n",
    "    Y float64\n",
    "}\n",
    "\n",
    "// Метод для типа Point.\n",
    "func (p Point) Distance(q Point) float64 {\n",
    "    return math.Hypot(q.X - p.X, q.Y - p.Y)\n",
    "}\n",
    "\n",
    "// Метод с получателем указателем.\n",
    "func (p *Point) ScaleBy(factor float64) {\n",
    "    p.X *= factor\n",
    "    p.Y *= factor\n",
    "}"
   ]
  },
  {
   "cell_type": "markdown",
   "metadata": {},
   "source": [
    "В более реалистичных программах, если хотя бы один метод типа требует получатель-указатель, то и **все** методы этого типа должны быть объявлены с получателем-указателем, даже если им это не нужно. В нашем примере мы нарушили это правило, чтобы продемонстрировать работу обоих типов методов.\n",
    "\n",
    "Именованные типы(Point) и указатели на них(\\*Point) являются единственными типами, которые могут использоваться при объявлении получателя. **Нельзя** объявить метод для типа, который сам по себе является указателем:"
   ]
  },
  {
   "cell_type": "code",
   "execution_count": 5,
   "metadata": {},
   "outputs": [
    {
     "name": "stderr",
     "output_type": "stream",
     "text": [
      "3:7: invalid receiver P (pointer or interface type)\n"
     ]
    }
   ],
   "source": [
    "type P *int\n",
    "\n",
    "func (p P) foo() {}"
   ]
  },
  {
   "cell_type": "markdown",
   "metadata": {},
   "source": [
    "Метод ScaleBy можно вызвать несколькими способами, предоставив \\*Point получатель:"
   ]
  },
  {
   "cell_type": "code",
   "execution_count": 6,
   "metadata": {},
   "outputs": [
    {
     "name": "stdout",
     "output_type": "stream",
     "text": [
      "{0 6}\n",
      "{8 6}\n",
      "{-4 0}\n"
     ]
    }
   ],
   "source": [
    "// 1\n",
    "r := &Point{0, 3}\n",
    "r.ScaleBy(2)\n",
    "fmt.Println(*r)\n",
    "\n",
    "// 2\n",
    "p1 := Point{4, 3}\n",
    "ptr := &p1\n",
    "ptr.ScaleBy(2)\n",
    "fmt.Println(*ptr)\n",
    "\n",
    "// 3\n",
    "p2 := Point{-2, 0}\n",
    "(&p2).ScaleBy(2)\n",
    "fmt.Sprint(p2)"
   ]
  },
  {
   "cell_type": "markdown",
   "metadata": {},
   "source": [
    "Последние два способа являются довольно неуклюжими. К счастью здесь нам может помочь язык. Если получатель p **является переменной** типа Point, но метод требует получатель \\*Point, то мы можем просто вызвать этот метод как обычный:"
   ]
  },
  {
   "cell_type": "code",
   "execution_count": 7,
   "metadata": {},
   "outputs": [
    {
     "name": "stdout",
     "output_type": "stream",
     "text": [
      "{2 1}\n"
     ]
    }
   ],
   "source": [
    "p := Point{4, 2}\n",
    "p.ScaleBy(0.5)\n",
    "fmt.Sprint(p)"
   ]
  },
  {
   "cell_type": "markdown",
   "metadata": {},
   "source": [
    "Компилятор сам неявно выполнит операцию получения адреса переменной &p. Это работает и для полей структуры и элементов массива, но для временных значений нет:"
   ]
  },
  {
   "cell_type": "code",
   "execution_count": 8,
   "metadata": {},
   "outputs": [
    {
     "name": "stderr",
     "output_type": "stream",
     "text": [
      "1:1: invalid operation: ScaleBy is not in method set of github.com/yunabe/lgo/sess7b2274696d65223a313533343331313339363437323234363833337d/exec4.Point\n"
     ]
    }
   ],
   "source": [
    "Point{0, 0}.ScaleBy(1)"
   ]
  },
  {
   "cell_type": "markdown",
   "metadata": {},
   "source": [
    "Для получателей указателей можно вызывать обычные методы как Distance:"
   ]
  },
  {
   "cell_type": "code",
   "execution_count": 9,
   "metadata": {},
   "outputs": [
    {
     "name": "stdout",
     "output_type": "stream",
     "text": [
      "0\n"
     ]
    }
   ],
   "source": [
    "ptr := &Point{9, 12}\n",
    "d := ptr.Distance(Point{9, 12})\n",
    "fmt.Sprint(d)"
   ]
  },
  {
   "cell_type": "markdown",
   "metadata": {},
   "source": [
    "Давайте подведём итог всему сказанному, т.к. вызов методов часто вызывает путаницу. В каждом допустимом выражении вызова метода верно только одно из следующих утверждений:  \n",
    "**1.** И аргумент и получатель имеют одинаковый тип T или \\*T:"
   ]
  },
  {
   "cell_type": "code",
   "execution_count": null,
   "metadata": {},
   "outputs": [],
   "source": [
    "Point{0,0}.Distance(Point{3,3}) // Point  \n",
    "ptr.ScaleBy(3)                  // *Point"
   ]
  },
  {
   "cell_type": "markdown",
   "metadata": {},
   "source": [
    "**2.** Аргумент имеет тип T, а получатель \\*T. Компилятор неявно получает адрес переменной:"
   ]
  },
  {
   "cell_type": "code",
   "execution_count": null,
   "metadata": {},
   "outputs": [],
   "source": [
    "p.ScaleBy(2)"
   ]
  },
  {
   "cell_type": "markdown",
   "metadata": {},
   "source": [
    "**3.** Аргумент имеет тип \\*T, а получатель T. Компилятор неявно разыменовывает аргумент:"
   ]
  },
  {
   "cell_type": "code",
   "execution_count": null,
   "metadata": {},
   "outputs": [],
   "source": [
    "ptr.Distance(Point{0,0})"
   ]
  },
  {
   "cell_type": "markdown",
   "metadata": {},
   "source": [
    "Если все методы именованного типа T имеют получатель типа T(не \\*T), то его можно свободно копировать; вызов любого метода всегда создаёт копию. Но если хотя бы один метод имеет получатель-указатель, то мы должны избегать копирования объектов типа T."
   ]
  },
  {
   "cell_type": "markdown",
   "metadata": {},
   "source": [
    "## Передача nil получателю"
   ]
  },
  {
   "cell_type": "markdown",
   "metadata": {},
   "source": [
    "Если получатель метода является указателем, то этот метод можно вызывать и для nil значения этого типа. Особенно это имеет смысл, когда nil является осмысленным нулевым значением для типа. Например, для списка целых чисел nil может означать пустой список:"
   ]
  },
  {
   "cell_type": "code",
   "execution_count": 10,
   "metadata": {},
   "outputs": [
    {
     "name": "stdout",
     "output_type": "stream",
     "text": [
      "true\n",
      "0\n"
     ]
    }
   ],
   "source": [
    "// Список целых чисел.\n",
    "// nil *IntList представляет собой пустой список.\n",
    "type IntList struct {\n",
    "    Value int\n",
    "    Tail  *IntList\n",
    "}\n",
    "\n",
    "func (l *IntList) Sum() int {\n",
    "    if l == nil {\n",
    "        return 0\n",
    "    }\n",
    "    return l.Value + l.Tail.Sum()\n",
    "}\n",
    "\n",
    "var ls IntList\n",
    "fmt.Println(ls.Tail == nil)\n",
    "fmt.Sprint(ls.Sum())"
   ]
  },
  {
   "cell_type": "markdown",
   "metadata": {},
   "source": [
    "При объявлении типа, получатели методов которого могут принимать nil значения, лучше явно указать об этом в документирующих комментариях, как мы это сделали для примера списка целых чисел."
   ]
  }
 ],
 "metadata": {
  "kernelspec": {
   "display_name": "Go (lgo)",
   "language": "go",
   "name": "lgo"
  },
  "language_info": {
   "file_extension": "",
   "mimetype": "",
   "name": "go",
   "version": ""
  }
 },
 "nbformat": 4,
 "nbformat_minor": 2
}
