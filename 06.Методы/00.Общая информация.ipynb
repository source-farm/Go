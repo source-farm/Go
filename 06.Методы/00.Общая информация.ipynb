{
 "cells": [
  {
   "cell_type": "markdown",
   "metadata": {},
   "source": [
    "# Общая информация"
   ]
  },
  {
   "cell_type": "markdown",
   "metadata": {},
   "source": [
    "Go как и многие современные языки поддерживает объектно-ориентированное программирование. Хотя и не существует общепринятого определения ООП, в нашем случае будем считать **объектом** любое значение или переменную, которые обладают методами, где метод - это функция связанная с определённым типом."
   ]
  }
 ],
 "metadata": {
  "kernelspec": {
   "display_name": "Go (lgo)",
   "language": "go",
   "name": "lgo"
  },
  "language_info": {
   "file_extension": "",
   "mimetype": "",
   "name": "go",
   "version": ""
  }
 },
 "nbformat": 4,
 "nbformat_minor": 2
}
