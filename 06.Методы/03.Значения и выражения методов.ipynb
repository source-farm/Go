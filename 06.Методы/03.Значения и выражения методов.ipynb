{
 "cells": [
  {
   "cell_type": "markdown",
   "metadata": {},
   "source": [
    "# Значения и выражения методов"
   ]
  },
  {
   "cell_type": "markdown",
   "metadata": {},
   "source": [
    "Обычно мы выбираем и выполняем метод в одном выражении, как например, p.Distance(...), но эти две операции можно разделить. Селектор p.Distance возвращает так называемое **значение метода**(method value) - функция, которая связывает метод(Point.Distance) с определённым значением получателя(p). Позже эту функцию можно выполнить, не указывая значение получателя:"
   ]
  },
  {
   "cell_type": "code",
   "execution_count": 1,
   "metadata": {},
   "outputs": [
    {
     "name": "stdout",
     "output_type": "stream",
     "text": [
      "5\n",
      "5.656854249492381 \n",
      "\n",
      "{6 8}\n"
     ]
    }
   ],
   "source": [
    "import (\n",
    "    \"math\"\n",
    "    \"fmt\"\n",
    ")\n",
    "\n",
    "type Point struct {\n",
    "    X float64\n",
    "    Y float64\n",
    "}\n",
    "\n",
    "func (p Point) Distance(q Point) float64 {\n",
    "    return math.Hypot(q.X - p.X, q.Y - p.Y)\n",
    "}\n",
    "\n",
    "func (p *Point) ScaleBy(factor float64) {\n",
    "    p.X *= factor\n",
    "    p.Y *= factor\n",
    "}\n",
    "\n",
    "p := Point{0, 0}\n",
    "q := Point{3, 4}\n",
    "\n",
    "distanceFromP := p.Distance\n",
    "fmt.Println(distanceFromP(q))\n",
    "fmt.Println(distanceFromP(Point{4, 4}), \"\\n\")\n",
    "\n",
    "scaleQ := q.ScaleBy\n",
    "scaleQ(2)\n",
    "fmt.Sprint(q)"
   ]
  },
  {
   "cell_type": "markdown",
   "metadata": {},
   "source": [
    "Значения методов бывают полезны, когда некий пакет предоставляет API для вызова значения функции, но нам нужно вместо функции вызвать метод. Например, в пакете time есть функция AfterFunc, которая позволяет вызывать значение функции по прошествии некоторого времени:"
   ]
  },
  {
   "cell_type": "code",
   "execution_count": 2,
   "metadata": {},
   "outputs": [],
   "source": [
    "import \"time\"\n",
    "\n",
    "type Rocket struct {}\n",
    "func (r *Rocket) Launch() {}\n",
    "\n",
    "r := new(Rocket)\n",
    "_ = time.AfterFunc(3 * time.Second, func() { r.Launch() })"
   ]
  },
  {
   "cell_type": "markdown",
   "metadata": {},
   "source": [
    "Значение метода позволяет нам выбрать метод переменной r вместо создания анонимной функции:"
   ]
  },
  {
   "cell_type": "code",
   "execution_count": 3,
   "metadata": {},
   "outputs": [],
   "source": [
    "_ = time.AfterFunc(3 * time.Second, r.Launch)"
   ]
  },
  {
   "cell_type": "markdown",
   "metadata": {},
   "source": [
    "Также в Go есть так называемые **выражения метода**(method expression). Для вызова метода обычно нам нужно указывать значение получателя и аргументы метода. Выражение метода, записываемое в виде T.f или (\\*T).f, где T - это некий тип, возвращает функцию, в качестве первого аргумента в которую можно передать получатель, а затем все остальные аргументы метода f. Пример работы с выражениями методов можно посмотреть в файле methodExpr.go(ядро lgo не поддерживает выражения методов)."
   ]
  }
 ],
 "metadata": {
  "kernelspec": {
   "display_name": "Go (lgo)",
   "language": "go",
   "name": "lgo"
  },
  "language_info": {
   "file_extension": "",
   "mimetype": "",
   "name": "go",
   "version": ""
  }
 },
 "nbformat": 4,
 "nbformat_minor": 2
}
