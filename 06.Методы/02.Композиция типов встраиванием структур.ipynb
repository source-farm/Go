{
 "cells": [
  {
   "cell_type": "markdown",
   "metadata": {},
   "source": [
    "# Композиция типов встраиванием структур"
   ]
  },
  {
   "cell_type": "markdown",
   "metadata": {},
   "source": [
    "Как мы уже говорили в главе про структуры, Go поддерживает встраивание одной структуры в другую. Встраивание также **переносит**(promote) методы встраиваемого типа в тип, в который происходит встраивание. Рассмотрим следующий пример:"
   ]
  },
  {
   "cell_type": "code",
   "execution_count": 1,
   "metadata": {},
   "outputs": [
    {
     "name": "stdout",
     "output_type": "stream",
     "text": [
      "5\n",
      "{6 8}\n"
     ]
    }
   ],
   "source": [
    "import (\n",
    "    \"math\"\n",
    "    \"image/color\"\n",
    "    \"fmt\"\n",
    ")\n",
    "\n",
    "type Point struct {\n",
    "    X float64\n",
    "    Y float64\n",
    "}\n",
    "\n",
    "// Метод для типа Point.\n",
    "func (p Point) Distance(q Point) float64 {\n",
    "    return math.Hypot(q.X - p.X, q.Y - p.Y)\n",
    "}\n",
    "\n",
    "// Метод с получателем указателем.\n",
    "func (p *Point) ScaleBy(factor float64) {\n",
    "    p.X *= factor\n",
    "    p.Y *= factor\n",
    "}\n",
    "\n",
    "// Встраиваем тип Point в тип ColoredPoint.\n",
    "type ColoredPoint struct {\n",
    "    Point\n",
    "    Color color.RGBA\n",
    "}\n",
    "\n",
    "var p = ColoredPoint{Point{0,0}, color.RGBA{0xFF, 0, 0, 0xFF}}\n",
    "var q = ColoredPoint{Point{3,4}, color.RGBA{0, 0xFF, 0, 0xFF}}\n",
    "fmt.Println(p.Distance(q.Point))\n",
    "q.ScaleBy(2)\n",
    "fmt.Sprint(q.Point)"
   ]
  },
  {
   "cell_type": "markdown",
   "metadata": {},
   "source": [
    "Как видно из этого примера для переменной типа ColoredPoint мы смогли вызвать метод Distance, хотя у этого типа нет такого метода. Это стало возможным благодаря встраиванию типа Point в тип ColoredPoint: для типа Point объявлен такой метод.\n",
    "\n",
    "Такой способ формирования типа называется **композицией**. Композиция позволяет создать тип, объединив в нём с помощью встраивания несколько полей различных типов, каждый из которых предоставляет свои методы.\n",
    "\n",
    "Тут также важно понять, что ColoredPoint **не является**(\"is a\") Point, а тем более не является наследником типа Point. Т.е. ColoredPoint нельзя использовать в тех местах, где можно использовать Point. Поэтому при вызове метода Distance мы указали в качестве агрумента q.Point, т.к. просто q выдало бы ошибку компиляции несоответствия типов. Правильней будет сказать, что ColoredPoint **содержит**(\"has\") Point, а также два дополнительных метода Distance и ScaleBy, которые в него пришли после встраивания Point.\n",
    "\n",
    "Анонимное поле может также быть указателем:"
   ]
  },
  {
   "cell_type": "code",
   "execution_count": 2,
   "metadata": {},
   "outputs": [
    {
     "name": "stdout",
     "output_type": "stream",
     "text": [
      "{1 1}\n"
     ]
    }
   ],
   "source": [
    "type ColoredPoint struct {\n",
    "    *Point\n",
    "    Color color.RGBA\n",
    "}\n",
    "\n",
    "var p = ColoredPoint{&Point{3,4}, color.RGBA{0xFF, 0, 0, 0xFF}}\n",
    "var q = ColoredPoint{&Point{1,1}, color.RGBA{0xFF, 0, 0, 0xFF}}\n",
    "p.Point = q.Point\n",
    "fmt.Sprint(*p.Point)"
   ]
  },
  {
   "cell_type": "markdown",
   "metadata": {},
   "source": [
    "Структура может иметь больше одного анонимного поля:"
   ]
  },
  {
   "cell_type": "code",
   "execution_count": 3,
   "metadata": {},
   "outputs": [],
   "source": [
    "type ColoredPoint struct {\n",
    "    *Point\n",
    "    color.RGBA\n",
    "}"
   ]
  },
  {
   "cell_type": "markdown",
   "metadata": {},
   "source": [
    "В этом случае структура ColoredPoint состояла бы из всех методов типов Point и RGBA, а также методов, объявленных именно для неё. Компилятор при вызове p.ScaleBy сначала ищет этот метод в объявленных напрямую для этого типа методах, затем в методах встроенных анонимных полей, затем в методах встроенных полей типов Point и RGBA и т.д. Если два одинаковых метода будут находится на одном уровне, то будет ошибка компиляции."
   ]
  }
 ],
 "metadata": {
  "kernelspec": {
   "display_name": "Go (lgo)",
   "language": "go",
   "name": "lgo"
  },
  "language_info": {
   "file_extension": "",
   "mimetype": "",
   "name": "go",
   "version": ""
  }
 },
 "nbformat": 4,
 "nbformat_minor": 2
}
