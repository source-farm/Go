{
 "cells": [
  {
   "cell_type": "markdown",
   "metadata": {},
   "source": [
    "# Panic и recover"
   ]
  },
  {
   "cell_type": "markdown",
   "metadata": {},
   "source": [
    "Система типов Go позволяет найти многие ошибки во время компиляции, но некоторые ошибки как выход за границу массива или разыменовывание требует проверки во время выполнения программы. Когда runtime языка Go находит такого рода ошибки, оно **паникует**(panic).\n",
    "\n",
    "Когда происходит паника, выполнение программы останавливается, выполняются все отложенные функции горутины, в которой произошла паника, и программа падает с выводом сообщения. Это сообщение содержит **значение паники**(panic value), которое обычно является сообщением об ошибке, и **трейс стека**(stack trace - стек вызовов функций) каждой активной во время паники горутины. Обычно этого сообщения бывает достаточно для определения причины паники.\n",
    "\n",
    "Не всегда паника исходит от runtime'а. Встроенная функция **panic** позволяет вызвать панику напрямую. На вход она принимает значение любого типа. Панику обычно вызывают в случаях, когда происходит что-то совсем \"невозможное\".\n",
    "\n",
    "Хотя механизм паник похож на механизм исключений из других языков программирования, ситуации, в которых вызывается паника, совершенно иные. Т.к. из-за паники программа завершает выполнение, паника в основном используются как посмертный лог, который подскажет разработчику причину падения. \"Нормальные\" ошибки, которые являются ожидаемыми программой, такие как неправильный ввод или настройка, ошибка при чтении данных из файла, невозможность сетевого подключения и т.д. не должны рассматриваться как исключения: программа должна уметь работать с такими ошибками.\n",
    "\n",
    "Как уже говорилось, после паники выполняются все отложенные функции горутины, в которой возникла паника:"
   ]
  },
  {
   "cell_type": "code",
   "execution_count": 2,
   "metadata": {},
   "outputs": [
    {
     "name": "stdout",
     "output_type": "stream",
     "text": [
      "f(3)\n",
      "f(2)\n",
      "f(1)\n",
      "defer 1\n",
      "defer 2\n",
      "defer 3\n"
     ]
    },
    {
     "name": "stderr",
     "output_type": "stream",
     "text": [
      "panic: runtime error: integer divide by zero\n",
      "\n",
      "goroutine 67 [running]:\n",
      "runtime/debug.Stack(0xc400000008, 0x7fb57a9cf450, 0xc42012e440)\n",
      "\t/usr/local/go/src/runtime/debug/stack.go:24 +0xa9\n",
      "github.com/yunabe/lgo/core.(*resultCounter).recordResult(0xc42012e428, 0x7fb57a8e1160, 0x7fb57acf1470)\n",
      "\t/home/yunus/Documents/src/go/src/github.com/yunabe/lgo/core/core.go:95 +0xce\n",
      "github.com/yunabe/lgo/core.(*resultCounter).recordResultInDefer(0xc42012e428)\n",
      "\t/home/yunus/Documents/src/go/src/github.com/yunabe/lgo/core/core.go:100 +0x3b\n",
      "panic(0x7fb57a8e1160, 0x7fb57acf1470)\n",
      "\t/usr/local/go/src/runtime/panic.go:491 +0x294\n",
      "github.com/yunabe/lgo/sess7b2274696d65223a313533343139343335383332373238353234347d/exec2.LgoExport_f(0x0)\n",
      "\t/home/yunus/Documents/src/go/src/github.com/yunabe/lgo/sess7b2274696d65223a313533343139343335383332373238353234347d/exec2/src.go:7 +0x1c0\n",
      "github.com/yunabe/lgo/sess7b2274696d65223a313533343139343335383332373238353234347d/exec2.LgoExport_f(0x1)\n",
      "\t/home/yunus/Documents/src/go/src/github.com/yunabe/lgo/sess7b2274696d65223a313533343139343335383332373238353234347d/exec2/src.go:10 +0x18f\n",
      "github.com/yunabe/lgo/sess7b2274696d65223a313533343139343335383332373238353234347d/exec2.LgoExport_f(0x2)\n",
      "\t/home/yunus/Documents/src/go/src/github.com/yunabe/lgo/sess7b2274696d65223a313533343139343335383332373238353234347d/exec2/src.go:10 +0x18f\n",
      "github.com/yunabe/lgo/sess7b2274696d65223a313533343139343335383332373238353234347d/exec2.LgoExport_f(0x3)\n",
      "\t/home/yunus/Documents/src/go/src/github.com/yunabe/lgo/sess7b2274696d65223a313533343139343335383332373238353234347d/exec2/src.go:10 +0x18f\n",
      "github.com/yunabe/lgo/sess7b2274696d65223a313533343139343335383332373238353234347d/exec2.LgoExport_main()\n",
      "\t/home/yunus/Documents/src/go/src/github.com/yunabe/lgo/sess7b2274696d65223a313533343139343335383332373238353234347d/exec2/src.go:14 +0x31\n",
      "github.com/yunabe/lgo/sess7b2274696d65223a313533343139343335383332373238353234347d/exec2.lgo_init()\n",
      "\t/home/yunus/Documents/src/go/src/github.com/yunabe/lgo/sess7b2274696d65223a313533343139343335383332373238353234347d/exec2/src.go:19 +0x27\n",
      "github.com/yunabe/lgo/cmd/runner.loadShared.func3()\n",
      "\t/home/yunus/Documents/src/go/src/github.com/yunabe/lgo/cmd/runner/runner.go:62 +0x26\n",
      "github.com/yunabe/lgo/core.startExec.func1(0xc42012e3f0, 0xc420128790)\n",
      "\t/home/yunus/Documents/src/go/src/github.com/yunabe/lgo/core/core.go:256 +0x83\n",
      "created by github.com/yunabe/lgo/core.startExec\n",
      "\t/home/yunus/Documents/src/go/src/github.com/yunabe/lgo/core/core.go:253 +0xcb\n",
      "main routine failed\n"
     ]
    }
   ],
   "source": [
    "import \"fmt\"\n",
    "\n",
    "func f(n int) {\n",
    "    fmt.Printf(\"f(%d)\\n\", n + 0/n) // Паника, когда n равно 0.\n",
    "    defer fmt.Printf(\"defer %d\\n\", n)\n",
    "    f(n - 1)\n",
    "}\n",
    "\n",
    "func main() {\n",
    "    f(3)\n",
    "}\n",
    "\n",
    "main()"
   ]
  },
  {
   "cell_type": "markdown",
   "metadata": {},
   "source": [
    "Также в Go возможно **восстановиться** от паники. Восстановление не приведёт к падению программы."
   ]
  }
 ],
 "metadata": {
  "kernelspec": {
   "display_name": "Go (lgo)",
   "language": "go",
   "name": "lgo"
  },
  "language_info": {
   "file_extension": "",
   "mimetype": "",
   "name": "go",
   "version": ""
  }
 },
 "nbformat": 4,
 "nbformat_minor": 2
}
