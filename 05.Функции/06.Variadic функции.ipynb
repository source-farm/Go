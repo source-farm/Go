{
 "cells": [
  {
   "cell_type": "markdown",
   "metadata": {},
   "source": [
    "# Функции с переменным числом аргументов"
   ]
  },
  {
   "cell_type": "markdown",
   "metadata": {},
   "source": [
    "Go поддерживает функции с переменным числом аргументов - **variadic** функции. Самыми часто используемыми функциями такого рода являются функции семейства Printf из пакета fmt.  \n",
    "Для объявления variadic функции необходимо перед типом последнего параметра функции указать знак троеточия \"**...**\". Этот знак указывает на то, что функция может принимать любое количество аргументов указанного типа:"
   ]
  },
  {
   "cell_type": "code",
   "execution_count": 1,
   "metadata": {},
   "outputs": [
    {
     "name": "stdout",
     "output_type": "stream",
     "text": [
      "0\n",
      "2\n",
      "6\n"
     ]
    }
   ],
   "source": [
    "import \"fmt\"\n",
    "\n",
    "func sum(nums ...int) int {\n",
    "    total := 0\n",
    "    for _, val := range nums {\n",
    "        total += val\n",
    "    }\n",
    "    return total\n",
    "}\n",
    "\n",
    "fmt.Println(sum())\n",
    "fmt.Println(sum(2))\n",
    "fmt.Sprint(sum(1, 2, 3))"
   ]
  },
  {
   "cell_type": "markdown",
   "metadata": {},
   "source": [
    "Параметр nums внутрии функции sum является слайсом []int.  \n",
    "Чтобы передать variadic функции аргументы, которые уже находятся в слайсе нужно указывать троеточие после аргумента:"
   ]
  },
  {
   "cell_type": "code",
   "execution_count": 2,
   "metadata": {},
   "outputs": [
    {
     "name": "stdout",
     "output_type": "stream",
     "text": [
      "6\n"
     ]
    }
   ],
   "source": [
    "values := []int{1, 2, 3}\n",
    "fmt.Sprint(sum(values...))"
   ]
  },
  {
   "cell_type": "markdown",
   "metadata": {},
   "source": [
    "Хотя ...int в функции sum и выглядит как слайс, тип variadic функции отличается от типа функции с обычным параметром типа слайс:"
   ]
  },
  {
   "cell_type": "code",
   "execution_count": 3,
   "metadata": {},
   "outputs": [
    {
     "name": "stdout",
     "output_type": "stream",
     "text": [
      "func(...int)\n",
      "func([]int)\n"
     ]
    }
   ],
   "source": [
    "func foo(ls ...int) {}\n",
    "func bar(ls []int) {}\n",
    "\n",
    "fmt.Sprintf(\"%T\\n%T\", foo, bar)"
   ]
  }
 ],
 "metadata": {
  "kernelspec": {
   "display_name": "Go (lgo)",
   "language": "go",
   "name": "lgo"
  },
  "language_info": {
   "file_extension": "",
   "mimetype": "",
   "name": "go",
   "version": ""
  }
 },
 "nbformat": 4,
 "nbformat_minor": 2
}
