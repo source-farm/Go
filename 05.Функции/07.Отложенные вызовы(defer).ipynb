{
 "cells": [
  {
   "cell_type": "markdown",
   "metadata": {},
   "source": [
    "# Отложенные вызовы"
   ]
  },
  {
   "cell_type": "markdown",
   "metadata": {},
   "source": [
    "Go поддерживает механизм отложенного вызова функции или метода с помощью ключевого слова **defer**. Для этого после defer необходимо выполнить обычный вызов функции. Аргументы вычисляются сразу же, но вызов будет отложен до момента завершения функции нормальным образом или паникой(panic). Можно отложить любое количество вызовов, они будут выполнены в обратном порядке, в котором они были отложены:"
   ]
  },
  {
   "cell_type": "code",
   "execution_count": 1,
   "metadata": {},
   "outputs": [
    {
     "name": "stdout",
     "output_type": "stream",
     "text": [
      "3\n",
      "2\n",
      "1\n"
     ]
    }
   ],
   "source": [
    "import \"fmt\"\n",
    "\n",
    "func foo(n int) {\n",
    "    fmt.Println(n)\n",
    "}\n",
    "\n",
    "func bar() {\n",
    "    defer foo(1)\n",
    "    defer foo(2)\n",
    "    defer foo(3)\n",
    "}\n",
    "\n",
    "bar()"
   ]
  },
  {
   "cell_type": "markdown",
   "metadata": {},
   "source": [
    "defer часто используют вместе с функциями выделения и освобождения ресурсов, как открытие/закрытие, соединение/рассоединение, захват/осбождение мютекса и др., т.к. позволяет гарантировано освободить ресурс независимо от сложности функции. Обычно defer ставят сразу после кода получения ресурса:"
   ]
  },
  {
   "cell_type": "code",
   "execution_count": 2,
   "metadata": {},
   "outputs": [
    {
     "name": "stdout",
     "output_type": "stream",
     "text": [
      "3\n"
     ]
    }
   ],
   "source": [
    "import \"sync\"\n",
    "\n",
    "var mtx sync.Mutex\n",
    "var num int\n",
    "\n",
    "func foo(n int) {\n",
    "    mtx.Lock()\n",
    "    defer mtx.Unlock() // Будет вызван после завершения функции.\n",
    "    num = n\n",
    "}\n",
    "\n",
    "foo(3)\n",
    "fmt.Sprint(num)"
   ]
  },
  {
   "cell_type": "markdown",
   "metadata": {},
   "source": [
    "Отложенные функции выполняются **после того** как оператор return обновил возвращаемые значения функции. Анонимные функции имеют доступ к переменным функции, в которой они объявлены, в том числе и к именованным возвращаемым значениям:"
   ]
  },
  {
   "cell_type": "code",
   "execution_count": 3,
   "metadata": {},
   "outputs": [
    {
     "name": "stdout",
     "output_type": "stream",
     "text": [
      "4\n"
     ]
    }
   ],
   "source": [
    "func double(x int) (result int) {\n",
    "    defer func () { fmt.Printf(\"%d\\n\", result) }()\n",
    "    return x + x\n",
    "}\n",
    "\n",
    "_ = double(2)"
   ]
  },
  {
   "cell_type": "markdown",
   "metadata": {},
   "source": [
    "Отложенная функция может даже **изменить** возвращаемую функцией именованную переменную."
   ]
  }
 ],
 "metadata": {
  "kernelspec": {
   "display_name": "Go (lgo)",
   "language": "go",
   "name": "lgo"
  },
  "language_info": {
   "file_extension": "",
   "mimetype": "",
   "name": "go",
   "version": ""
  }
 },
 "nbformat": 4,
 "nbformat_minor": 2
}
