{
 "cells": [
  {
   "cell_type": "markdown",
   "metadata": {},
   "source": [
    "# Функции как значения"
   ]
  },
  {
   "cell_type": "markdown",
   "metadata": {},
   "source": [
    "В Go функции являются **значениями**(first class values), т.е. их можно передавать как аргументы другим функциям, создавать переменную типа функции и т.д. Значение типа функции можно вызывать как и обычные функции. Пример:"
   ]
  },
  {
   "cell_type": "code",
   "execution_count": 1,
   "metadata": {},
   "outputs": [
    {
     "name": "stdout",
     "output_type": "stream",
     "text": [
      "4\n",
      "func(int) int\n"
     ]
    }
   ],
   "source": [
    "import \"fmt\"\n",
    "\n",
    "func square(n int) int { return n * n }\n",
    "\n",
    "f := square\n",
    "fmt.Println(f(2))\n",
    "fmt.Sprintf(\"%T\", f)"
   ]
  },
  {
   "cell_type": "markdown",
   "metadata": {},
   "source": [
    "Переменной типа функции можно присвоить значение только такого же типа функции:"
   ]
  },
  {
   "cell_type": "code",
   "execution_count": 2,
   "metadata": {},
   "outputs": [
    {
     "name": "stderr",
     "output_type": "stream",
     "text": [
      "5:5: cannot use product (value of type func(n int, m int) int) as func(n int) int value in assignment\n"
     ]
    }
   ],
   "source": [
    "func square(n int) int { return n * n }\n",
    "func product(n int, m int) int { return m * n }\n",
    "\n",
    "f := square // Нет ошибки.\n",
    "f = product // Ошибка."
   ]
  },
  {
   "cell_type": "markdown",
   "metadata": {},
   "source": [
    "**Нулевым значением** для типа функции является **nil**. Такую функцию нельзя вызывать, будет ошибка выполнения:"
   ]
  },
  {
   "cell_type": "code",
   "execution_count": 3,
   "metadata": {},
   "outputs": [],
   "source": [
    "var f func(int) int\n",
    "// f(1) // runtime error."
   ]
  },
  {
   "cell_type": "markdown",
   "metadata": {},
   "source": [
    "Значения функций можно **сравнивать с nil**:"
   ]
  },
  {
   "cell_type": "code",
   "execution_count": 4,
   "metadata": {},
   "outputs": [
    {
     "name": "stdout",
     "output_type": "stream",
     "text": [
      "nil function\n"
     ]
    }
   ],
   "source": [
    "var f func(int) int\n",
    "if f != nil {\n",
    "    f(1)\n",
    "} else {\n",
    "    fmt.Println(\"nil function\")\n",
    "}"
   ]
  },
  {
   "cell_type": "markdown",
   "metadata": {},
   "source": [
    "Значения функций **не являются сравнимыми**(comparable), поэтому их нельзя сравнивать друг с другом или использовать в качестве ключей словаря."
   ]
  }
 ],
 "metadata": {
  "kernelspec": {
   "display_name": "Go (lgo)",
   "language": "go",
   "name": "lgo"
  },
  "language_info": {
   "file_extension": "",
   "mimetype": "",
   "name": "go",
   "version": ""
  }
 },
 "nbformat": 4,
 "nbformat_minor": 2
}
