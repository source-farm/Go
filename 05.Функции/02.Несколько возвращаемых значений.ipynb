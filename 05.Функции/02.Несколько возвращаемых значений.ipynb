{
 "cells": [
  {
   "cell_type": "markdown",
   "metadata": {},
   "source": [
    "# Несколько возвращаемых значений"
   ]
  },
  {
   "cell_type": "markdown",
   "metadata": {},
   "source": [
    "Функция может вернуть несколько значений. В стандартной библиотеке много таких функций, которые дополнительно к результату своего выполнения возвращают булево значение - индикацию успешного выполнения функции. Пример:"
   ]
  },
  {
   "cell_type": "code",
   "execution_count": 1,
   "metadata": {},
   "outputs": [
    {
     "name": "stdout",
     "output_type": "stream",
     "text": [
      "0 false\n",
      "2 true\n"
     ]
    }
   ],
   "source": [
    "import \"fmt\"\n",
    "\n",
    "func div(a int, b int) (int, bool) {\n",
    "    if b != 0 {\n",
    "        return a/b, true\n",
    "    }\n",
    "    return 0, false\n",
    "}\n",
    "\n",
    "q, ok := div(100, 0)\n",
    "fmt.Println(q, ok)\n",
    "\n",
    "q, ok = div(4, 2)\n",
    "fmt.Sprint(q, ok)"
   ]
  },
  {
   "cell_type": "markdown",
   "metadata": {},
   "source": [
    "Обычно для возврата результата выполнения в Go используется тип **error**, но мы его рассмотрим более подробно в главе 7 при изучении интерфейсов.\n",
    "\n",
    "Если мы собираемся обработать вызов функции с несколькими возвращаемыми значениями, то слева должно стоять столько же переменных сколько возвращает функция. Если какая-либо из переменных нам не нужна, то можно использовать пустой идетификатор:"
   ]
  },
  {
   "cell_type": "code",
   "execution_count": 2,
   "metadata": {},
   "outputs": [
    {
     "name": "stdout",
     "output_type": "stream",
     "text": [
      "3\n"
     ]
    }
   ],
   "source": [
    "q, _ := div(9, 3)\n",
    "fmt.Sprint(q)"
   ]
  },
  {
   "cell_type": "markdown",
   "metadata": {},
   "source": [
    "Вызов функции с несколькими возвращаемыми значениями может также быть использован **как аргумент** другой функции, которая может принять эти значения. Такое поведение часто используют для отладки, т.к. позволяет использовать функции семейства print из пакета fmt:"
   ]
  },
  {
   "cell_type": "code",
   "execution_count": 3,
   "metadata": {},
   "outputs": [
    {
     "name": "stdout",
     "output_type": "stream",
     "text": [
      "2 true\n"
     ]
    }
   ],
   "source": [
    "fmt.Sprint(div(14, 7))"
   ]
  },
  {
   "cell_type": "markdown",
   "metadata": {},
   "source": [
    "Т.к. как мы уже говорили возвращаемые значения функции могуть быть именованными, для улучшения документированности можно воспользоваться этим свойством:"
   ]
  },
  {
   "cell_type": "code",
   "execution_count": 4,
   "metadata": {},
   "outputs": [],
   "source": [
    "func div(a int, b int) (quotient int, ok bool) {\n",
    "    if b != 0 {\n",
    "        return a/b, true\n",
    "    }\n",
    "    return 0, false    \n",
    "}"
   ]
  },
  {
   "cell_type": "markdown",
   "metadata": {},
   "source": [
    "В функции с именованными возвращаемыми значениями операнды return можно пропустить. Такой return называется **пустым return'ом**(bare return):"
   ]
  },
  {
   "cell_type": "code",
   "execution_count": 5,
   "metadata": {},
   "outputs": [],
   "source": [
    "func div(a int, b int) (quotient int, ok bool) {\n",
    "    if b != 0 {\n",
    "        quotient, ok = a/b, true\n",
    "    }\n",
    "    quotient, ok = 0, false\n",
    "    return\n",
    "}"
   ]
  },
  {
   "cell_type": "markdown",
   "metadata": {},
   "source": [
    "Совсем убирать return нельзя, будет ошибка компиляции. Использование пустого return'а часто **не улучшает** читаемость кода. Поэтому рекомендуется не злоупотреблять таким оператором."
   ]
  }
 ],
 "metadata": {
  "kernelspec": {
   "display_name": "Go (lgo)",
   "language": "go",
   "name": "lgo"
  },
  "language_info": {
   "file_extension": "",
   "mimetype": "",
   "name": "go",
   "version": ""
  }
 },
 "nbformat": 4,
 "nbformat_minor": 2
}
