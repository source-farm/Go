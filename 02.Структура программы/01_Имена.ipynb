{
 "cells": [
  {
   "cell_type": "markdown",
   "metadata": {},
   "source": [
    "# Имена в Go"
   ]
  },
  {
   "cell_type": "markdown",
   "metadata": {},
   "source": [
    "В Go имя функции, переменной или какого-либо ещё элемента языка должно начинаться с **буквы**</font>(более точнее с такого символа, который Unicode считает буквой) или **знака подчёркивания**</font>, а далее может идти любое количество цифр, букв или знаков подчёркивания. **Регистр** имеет значение."
   ]
  },
  {
   "cell_type": "code",
   "execution_count": 2,
   "metadata": {},
   "outputs": [
    {
     "name": "stdout",
     "output_type": "stream",
     "text": [
      "a = 1\n",
      "_b = 0\n",
      "число = 13\n"
     ]
    }
   ],
   "source": [
    "import \"fmt\"\n",
    "\n",
    "// Примеры правильных имён Go\n",
    "var a int = 1\n",
    "fmt.Println(\"a =\", a)\n",
    "\n",
    "var _b int\n",
    "fmt.Println(\"_b =\", _b)\n",
    "\n",
    "var число int = 13 // Верно из-за Unicode.\n",
    "fmt.Sprint(\"число = \", число)"
   ]
  },
  {
   "cell_type": "markdown",
   "metadata": {},
   "source": [
    "## Ключевые слова"
   ]
  },
  {
   "cell_type": "markdown",
   "metadata": {},
   "source": [
    "**Ключевых** слов(keywords) всего 25:  \n",
    "break  \n",
    "case  \n",
    "chan  \n",
    "const  \n",
    "continue  \n",
    "default  \n",
    "defer  \n",
    "else  \n",
    "fallthrough  \n",
    "for  \n",
    "func  \n",
    "go  \n",
    "goto  \n",
    "if  \n",
    "import  \n",
    "interface  \n",
    "map  \n",
    "package  \n",
    "range  \n",
    "return  \n",
    "select  \n",
    "struct  \n",
    "switch  \n",
    "type  \n",
    "var  \n",
    "\n",
    "Эти ключевые слова **нельзя** использовать в качестве имён."
   ]
  },
  {
   "cell_type": "markdown",
   "metadata": {},
   "source": [
    "## Предопределённые имена"
   ]
  },
  {
   "cell_type": "markdown",
   "metadata": {},
   "source": [
    "В дополнение к ключевых словам существуют и так называемые **предопределённые**(predeclared) имена, которые используются для обозначения встроенных констант, типов и функций:  \n",
    "**Предопределённые константы**:  \n",
    "true  \n",
    "false  \n",
    "iota  \n",
    "nil  \n",
    "\n",
    "**Предопределённые типы**:  \n",
    "int, int8, int16, int32, int64  \n",
    "uint, uint8, uint16, uint32, uint64, uintptr  \n",
    "float32, float64, complex64, complex128  \n",
    "bool, byte, rune, string, error  \n",
    "\n",
    "**Предопределённые функции**:  \n",
    "make, len, cap, new, append, copy, close, delete  \n",
    "complex, real, img  \n",
    "panic, recover  \n",
    "\n",
    "Эти имена **можно** использовать в качестве имён при определнии какого-либо элемента, но нужно делать это с осторожностью, чтобы не вызвать путаницу."
   ]
  },
  {
   "cell_type": "markdown",
   "metadata": {},
   "source": [
    "## Общая информация о именах"
   ]
  },
  {
   "cell_type": "markdown",
   "metadata": {},
   "source": [
    "Если элемент объявлется внутри функции, то он становится **локальным** для этой функции; объявленные вне функций элементы видны всем файлам пакета, в который входит этот элемент. Если название элемента начинается с **большой** буквы, то этот элемент **экспортируется**, что означает, что элемент виден и другим пакетам, кроме пакета, в котором находится сам элемент.  \n",
    "В Go принято использовать **\"camelCase\"** методику для формирования имён, которые состоят из несольких слов. Именно так написана стандартная библиотека."
   ]
  }
 ],
 "metadata": {
  "kernelspec": {
   "display_name": "Go (lgo)",
   "language": "go",
   "name": "lgo"
  },
  "language_info": {
   "file_extension": "",
   "mimetype": "",
   "name": "go",
   "version": ""
  }
 },
 "nbformat": 4,
 "nbformat_minor": 2
}
