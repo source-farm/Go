{
 "cells": [
  {
   "cell_type": "markdown",
   "metadata": {},
   "source": [
    "# Объявления\n",
    "**Объявление** позволяет задать имя сущности программы и определяет некоторые или все её свойства. В Go **4** основных вида объявлений:  \n",
    "var  \n",
    "const  \n",
    "type  \n",
    "func  \n",
    "\n",
    "Каждый файл начинается с объявления **package**, который указывает на пакет, которому принадлежит этот файл. За ним идут объявления **import**, после которых указываются объявления переменных, констант и т.д. уровня пакета."
   ]
  },
  {
   "cell_type": "markdown",
   "metadata": {},
   "source": [
    "## Пример объявлений в Go."
   ]
  },
  {
   "cell_type": "code",
   "execution_count": 10,
   "metadata": {},
   "outputs": [
    {
     "name": "stdout",
     "output_type": "stream",
     "text": [
      "3.1415\n"
     ]
    }
   ],
   "source": [
    "// Комментируем package, т.к. без этого jupyter notebook выдаёт ошибку при выполении ячейки.\n",
    "//package main\n",
    "import \"fmt\"\n",
    "\n",
    "// Объявление уровня пакета.\n",
    "const PI = 3.1415\n",
    "\n",
    "func main() {\n",
    "    // Локальная переменная.\n",
    "    var num = PI\n",
    "    fmt.Println(num)\n",
    "}\n",
    "\n",
    "main()"
   ]
  },
  {
   "cell_type": "markdown",
   "metadata": {},
   "source": [
    "Можно также изучить пример в папке **exporting_names**, чтобы увидеть как работает экспортирование."
   ]
  }
 ],
 "metadata": {
  "kernelspec": {
   "display_name": "Go (lgo)",
   "language": "go",
   "name": "lgo"
  },
  "language_info": {
   "file_extension": "",
   "mimetype": "",
   "name": "go",
   "version": ""
  }
 },
 "nbformat": 4,
 "nbformat_minor": 2
}
