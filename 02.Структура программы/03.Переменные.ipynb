{
 "cells": [
  {
   "cell_type": "markdown",
   "metadata": {},
   "source": [
    "# Переменные"
   ]
  },
  {
   "cell_type": "markdown",
   "metadata": {},
   "source": [
    "Ключевое слово **var** создаёт переменную определённого типа, присваивает ей имя и инициализирует её. В общем виде объявление переменной выглядит так:  \n",
    "\n",
    "var *name* type = *expression*\n",
    "\n",
    "Либо \"type\" либо \" = expression\" можно пропустить, но не оба сразу. Если \"type\" пропущен, то тип выводится из выражения-инициализатора. Если пропускается \" = expression\", то переменной присваивается **нулевое значение**(zero value) соответствующего типа. Для чисел он равен __0__, **false** для булевого типа, **\"\"** для строк и **nil** для интерфейсных и ссылочных типов(слайсы, указатели, словари, каналы, функции). Для агрегированных типов каждый элемент принимает нулевое значение. Механизм нулевых значений гарантирует инициализацию переменных известным значением, т.е. в Go отсутствует такое понятие, как неинициализированная переменная. Например, следующий когда выводит пустую строку, а не какой-либо мусор:"
   ]
  },
  {
   "cell_type": "code",
   "execution_count": 1,
   "metadata": {},
   "outputs": [
    {
     "name": "stdout",
     "output_type": "stream",
     "text": [
      "\n",
      "true\n"
     ]
    }
   ],
   "source": [
    "import \"fmt\"\n",
    "var s string\n",
    "fmt.Println(s)\n",
    "fmt.Sprint(s == \"\")"
   ]
  },
  {
   "cell_type": "markdown",
   "metadata": {},
   "source": [
    "Можно также объявить и инициализировать переменные одной строкой:"
   ]
  },
  {
   "cell_type": "code",
   "execution_count": 2,
   "metadata": {},
   "outputs": [],
   "source": [
    "// Объявление переменных одного и того же типа.\n",
    "var a, b, c int\n",
    "\n",
    "// Объявление переменных разных типов.\n",
    "var num, flag, name = 4, true, \"John\""
   ]
  },
  {
   "cell_type": "markdown",
   "metadata": {},
   "source": [
    "## Короткое объявление переменных"
   ]
  },
  {
   "cell_type": "markdown",
   "metadata": {},
   "source": [
    "**Внутри функций** переменные можно также объявить, используя так называемый **метод короткого объявления переменных**(short variable declaration). Общий вид у него такой:\n",
    "\n",
    "*name* := *expression*\n",
    "\n",
    "Тип переменной name определяется из выражения expression. Пример:"
   ]
  },
  {
   "cell_type": "code",
   "execution_count": 3,
   "metadata": {},
   "outputs": [],
   "source": [
    "tree := \"oak\"\n",
    "height := 15.7"
   ]
  },
  {
   "cell_type": "markdown",
   "metadata": {},
   "source": [
    "Наиболее часто именно таким образом и объявляют переменные, оставив объявления var для случая, когда переменная должна иметь определённый тип, который отличается от выводимого из выражения-инициализатора или для случая, когда значение переменной будет присвоено позже и её начальное значение нас не интересует.  \n",
    "Как и с объявлением var можно сразу **объявить несколько переменных**:"
   ]
  },
  {
   "cell_type": "code",
   "execution_count": 4,
   "metadata": {},
   "outputs": [],
   "source": [
    "country, population := \"Japan\", 142"
   ]
  },
  {
   "cell_type": "markdown",
   "metadata": {},
   "source": [
    "Если при коротком объявлении переменных какие-либо переменные уже были созданы, то им будет просто присвоено новое значение:"
   ]
  },
  {
   "cell_type": "code",
   "execution_count": 5,
   "metadata": {},
   "outputs": [
    {
     "name": "stdout",
     "output_type": "stream",
     "text": [
      "&day = 0x7f2b0c5b4208\n",
      "&day = 0x7f2b0c5b4208\n"
     ]
    }
   ],
   "source": [
    "day := 1\n",
    "fmt.Printf(\"&day = %p\\n\", &day) // %p выводит адрес.\n",
    "\n",
    "day, month := 2, \"January\"\n",
    "fmt.Sprintf(\"&day = %p\", &day)"
   ]
  },
  {
   "cell_type": "markdown",
   "metadata": {},
   "source": [
    "Также при коротком объявление переменных слева от \":=\" должна объявляться **хотя бы одна новая** переменная, т.к. иначе будет ошибка компиляции:"
   ]
  },
  {
   "cell_type": "code",
   "execution_count": 6,
   "metadata": {},
   "outputs": [],
   "source": [
    "planet := \"Earth\"\n",
    "radius := 6371\n",
    "\n",
    "// Ошибка. Так делать нельзя.\n",
    "// planet, radius := \"Mercury\", 2440\n",
    "\n",
    "// Но можно так.\n",
    "planet, radius, habitable := \"Venus\", 6052, false"
   ]
  },
  {
   "cell_type": "markdown",
   "metadata": {},
   "source": [
    "## Указатели"
   ]
  },
  {
   "cell_type": "markdown",
   "metadata": {},
   "source": [
    "Указатель это переменная, которая хранит адрес переменной. С помощью указателя можно менять значение переменной косвенно(indirectly), т.е. не зная имя переменной. Работа указателей в Go очень похожа работу указателей в C: адрес переменной можно получить с помощью оператора __&__, а получить доступ к значению с помощью оператора разыменовывания(indirection)*****:"
   ]
  },
  {
   "cell_type": "code",
   "execution_count": 7,
   "metadata": {},
   "outputs": [
    {
     "name": "stdout",
     "output_type": "stream",
     "text": [
      "diamond\n",
      "hearts\n"
     ]
    }
   ],
   "source": [
    "suit := \"diamond\"\n",
    "ptrSuit := &suit\n",
    "fmt.Println(*ptrSuit)\n",
    "\n",
    "*ptrSuit = \"hearts\"\n",
    "fmt.Sprint(suit)"
   ]
  },
  {
   "cell_type": "markdown",
   "metadata": {},
   "source": [
    "Каждый компонент агрегированных типов данных, как элемент массива или поле структуры, также является переменной, а следовательно **имеет** и адрес.  \n",
    "Нулевым значением для указателя любого типа является **nil**. Указатель не равен nil, только если он указывает на какую-либо переменную. Указатели можно сравнивать между собой. Два указателя равны только в случае, когда они указывают на одну и ту же переменную или оба равны nil:"
   ]
  },
  {
   "cell_type": "code",
   "execution_count": 8,
   "metadata": {},
   "outputs": [
    {
     "name": "stdout",
     "output_type": "stream",
     "text": [
      "true false false\n"
     ]
    }
   ],
   "source": [
    "var a, b int\n",
    "fmt.Sprint(&a == &a, &a == &b, &a == nil)"
   ]
  },
  {
   "cell_type": "markdown",
   "metadata": {},
   "source": [
    "В Go возвращение адреса локальной переменной, а затем дальнейшее обращение к этой переменной через указатель **не является ошибкой**. Сборщик мусора не уничтожит переменную, т.к. на неё указывает другая:"
   ]
  },
  {
   "cell_type": "code",
   "execution_count": 9,
   "metadata": {},
   "outputs": [
    {
     "name": "stdout",
     "output_type": "stream",
     "text": [
      "13\n",
      "7\n"
     ]
    }
   ],
   "source": [
    "func notLucky() *int {\n",
    "    value := 13\n",
    "    return &value\n",
    "}\n",
    "\n",
    "ptr := notLucky()\n",
    "fmt.Println(*ptr)\n",
    "\n",
    "*ptr = 7\n",
    "fmt.Sprint(*ptr)"
   ]
  },
  {
   "cell_type": "markdown",
   "metadata": {},
   "source": [
    "Использование указателей позволяет изменить значение переменной, переданной в функцию:"
   ]
  },
  {
   "cell_type": "code",
   "execution_count": 10,
   "metadata": {},
   "outputs": [
    {
     "name": "stdout",
     "output_type": "stream",
     "text": [
      "7\n"
     ]
    }
   ],
   "source": [
    "func luckylize(ptr *int) {\n",
    "    *ptr = 7\n",
    "}\n",
    "\n",
    "guess := 13\n",
    "luckylize(&guess)\n",
    "fmt.Sprint(guess)"
   ]
  },
  {
   "cell_type": "markdown",
   "metadata": {},
   "source": [
    "## Встроенная(built-in) функция new"
   ]
  },
  {
   "cell_type": "markdown",
   "metadata": {},
   "source": [
    "Встроенная функции new служит для выделения памяти. Выражение new(T) создает неименованную(unnamed) переменную типа T, инициализирует её нулевым значением этого типа и возвращает её адрес."
   ]
  },
  {
   "cell_type": "code",
   "execution_count": 11,
   "metadata": {},
   "outputs": [
    {
     "name": "stdout",
     "output_type": "stream",
     "text": [
      "0\n",
      "63\n"
     ]
    }
   ],
   "source": [
    "ptrID := new(int)\n",
    "fmt.Println(*ptrID)\n",
    "\n",
    "*ptrID = 63\n",
    "fmt.Sprint(*ptrID)"
   ]
  },
  {
   "cell_type": "markdown",
   "metadata": {},
   "source": [
    "Функция new используется довольно редко, т.к. наиболее часто создаваемые неименованные переменные являются структурами, а для них существует более удобный синтаксис литералов.  \n",
    "Т.к. new является предопределённой функцией, а не ключевым словом, мы можем создать и переменную с таким именем:"
   ]
  },
  {
   "cell_type": "code",
   "execution_count": 12,
   "metadata": {},
   "outputs": [],
   "source": [
    "// Внутри функции diff переменная new перекрывает предопределённую функцию new.\n",
    "func diff(old, new int) int {\n",
    "    return new - old\n",
    "}"
   ]
  },
  {
   "cell_type": "markdown",
   "metadata": {},
   "source": [
    "## Время жизни(lifetime) переменных"
   ]
  },
  {
   "cell_type": "markdown",
   "metadata": {},
   "source": [
    "Время жизни переменной - это интервал существования переменной во время выполнения программы. Переменные уровня пакета существуют до конца выполнения программы. Локальные переменные функций существуют пока они становятся **недостижимыми**(unreachable). Аргументы функции также являются локальными переменными. Они создаются каждый раз, когда вызывается содержащая их функция. В отличие от C в Go локальная переменная необъязательно создаётся в стеке. Рассмотрим следующий пример:"
   ]
  },
  {
   "cell_type": "code",
   "execution_count": 13,
   "metadata": {},
   "outputs": [],
   "source": [
    "var global *int\n",
    "\n",
    "func f() {\n",
    "    var x int\n",
    "    x = 1\n",
    "    global = &x\n",
    "}\n",
    "\n",
    "func g() {\n",
    "    y := new(int)\n",
    "    *y = 1\n",
    "}"
   ]
  },
  {
   "cell_type": "markdown",
   "metadata": {},
   "source": [
    "Локальная переменная x внутри функции f должна быть создана в куче, т.к. после завершения выполнения функции, на наё всё ещё ссылается глобальная переменная global. Внутри функции g переменную y можно создать в стеке даже несмотря на то, что она создаётся используя встроенную функцию new. Эта переменная не выходит за рамки функции. Программист не может управлять тем, где именно будет выделена память для создаваемых им переменных. Но это и не нужно делать, т.к. сборщик мусора(garbage collector, или GC) на то и придуман, чтобы освободить разработчика от многих проблем работы с памятью."
   ]
  }
 ],
 "metadata": {
  "kernelspec": {
   "display_name": "Go (lgo)",
   "language": "go",
   "name": "lgo"
  },
  "language_info": {
   "file_extension": "",
   "mimetype": "",
   "name": "go",
   "version": ""
  }
 },
 "nbformat": 4,
 "nbformat_minor": 2
}
