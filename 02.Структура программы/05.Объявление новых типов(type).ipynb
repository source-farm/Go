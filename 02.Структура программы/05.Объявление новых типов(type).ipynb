{
 "cells": [
  {
   "cell_type": "markdown",
   "metadata": {},
   "source": [
    "# Объявление типов"
   ]
  },
  {
   "cell_type": "markdown",
   "metadata": {},
   "source": [
    "Тип переменной определяет такие её характеристики как допустимые значения, размер в памяти, поддерживаемые встроенные операции и связанные с ней методы.  \n",
    "Объявление **type** позволяет создать именованный тип, у которого **базовым**(underlying) является какой-либо существующий тип. В общем виде он представляется так:\n",
    "\n",
    "type *name* *underlying-type*\n",
    "\n",
    "Пример:"
   ]
  },
  {
   "cell_type": "code",
   "execution_count": 1,
   "metadata": {},
   "outputs": [],
   "source": [
    "// У типов ColorRGB и ColorRGBA базовым типом является uint32\n",
    "type ColorRGB uint32\n",
    "type ColorRGBA uint32"
   ]
  },
  {
   "cell_type": "markdown",
   "metadata": {},
   "source": [
    "Хотя типы ColorRGB и ColorRGBA имеют одинаковый базовый тип, их **нельзя** сравнивать между собой или присваивать друг другу без явного приведения типа:"
   ]
  },
  {
   "cell_type": "code",
   "execution_count": 2,
   "metadata": {},
   "outputs": [],
   "source": [
    "var rgb ColorRGB = 0x00FFAAFF\n",
    "var rgba ColorRGBA = 0x110000FF\n",
    "\n",
    "// Ошибка.\n",
    "// rgb != rgba\n",
    "// rgba = rgb"
   ]
  },
  {
   "cell_type": "markdown",
   "metadata": {},
   "source": [
    "## Приведение типов"
   ]
  },
  {
   "cell_type": "markdown",
   "metadata": {},
   "source": [
    "Приведение одного типа к другому можно выполнить так:"
   ]
  },
  {
   "cell_type": "code",
   "execution_count": 3,
   "metadata": {},
   "outputs": [
    {
     "name": "stdout",
     "output_type": "stream",
     "text": [
      "ffaaff\n",
      "\n"
     ]
    }
   ],
   "source": [
    "import \"fmt\"\n",
    "rgba = ColorRGBA(rgb) // Приведение переменной типа ColorRGB к типу ColorRGBA.\n",
    "fmt.Sprintf(\"%x\\n\", rgba)"
   ]
  },
  {
   "cell_type": "markdown",
   "metadata": {},
   "source": [
    "Приведение типа не меняет значение или базовый тип, но позволяет явно показать намерения разработчика.  \n",
    "Для любого типа T существует преобразование вида **T(x)**, которое преобразует значение переменной x к типу T. Преобразование выполняется успешно, если тип переменной x и тип T имеют одинаковый базовый тип или если оба типа являются указателями, которые указывают на переменные с одинаковым базовым типом. Эти преобразования меняют тип, но не представление значения. Если x присваиваемо T, то преобразование проходит, хотя и является избыточным."
   ]
  },
  {
   "cell_type": "code",
   "execution_count": 4,
   "metadata": {},
   "outputs": [],
   "source": [
    "type Ruble int\n",
    "type Dollar int\n",
    "type Bank string\n",
    "\n",
    "var fewRubles Ruble = 23\n",
    "var dollar Dollar = 3\n",
    "// Одинаковые базовые типы, поэтому преобразование проходит.\n",
    "fewRubles = 63 * Ruble(dollar)\n",
    "\n",
    "var bank Bank = \"Golden Mine\"\n",
    "// Разные базовые типы, поэтому преобразование не проходит.\n",
    "// fewRubles = Ruble(bank)"
   ]
  },
  {
   "cell_type": "markdown",
   "metadata": {},
   "source": [
    "Преобразования можно также проводить между числовыми типами, а также между строками и некоторыми типами слайсов.  \n",
    "Базовый тип определяет не только представление, но также и втроенные операции, которые поддерживаем тип. Это означает, например, что если базовым типом является int, то можно применять операторы этого типа к новому типу:"
   ]
  },
  {
   "cell_type": "code",
   "execution_count": 5,
   "metadata": {},
   "outputs": [
    {
     "name": "stdout",
     "output_type": "stream",
     "text": [
      "23\n"
     ]
    }
   ],
   "source": [
    "type Distance int\n",
    "var d Distance = 13\n",
    "d += 10\n",
    "fmt.Sprint(d)"
   ]
  },
  {
   "cell_type": "markdown",
   "metadata": {},
   "source": [
    "Сравнивать можно значения именнованного типа с другим значением такого же типа или с значением неименованного типа с тем же самым базовым типом.  \n",
    "Также для именнованных типов можно определить новое поведение, определив **методы**, которые связаны с этим типом."
   ]
  }
 ],
 "metadata": {
  "kernelspec": {
   "display_name": "Go (lgo)",
   "language": "go",
   "name": "lgo"
  },
  "language_info": {
   "file_extension": "",
   "mimetype": "",
   "name": "go",
   "version": ""
  }
 },
 "nbformat": 4,
 "nbformat_minor": 2
}
