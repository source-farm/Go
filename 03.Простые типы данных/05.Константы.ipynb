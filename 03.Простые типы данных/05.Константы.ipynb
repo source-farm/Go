{
 "cells": [
  {
   "cell_type": "markdown",
   "metadata": {},
   "source": [
    "# Константы"
   ]
  },
  {
   "cell_type": "markdown",
   "metadata": {},
   "source": [
    "Константами являются выражения, значение которых известно компилятору и вычисляются они во время компиляции, а не во время выполнения программы(runtime). Базовым типом для константы может быть только булев тип, строка или числовой тип(целые, вещественные и комплексные числа, а также руны).  \n",
    "\n",
    "Объявление **const** определяет именованное значение, которое синтаксически выглядит как переменная, но его значение нельзя изменить во время выполнения программы."
   ]
  },
  {
   "cell_type": "markdown",
   "metadata": {},
   "source": [
    "## Строковые константы"
   ]
  },
  {
   "cell_type": "markdown",
   "metadata": {},
   "source": [
    "Строковой константой называется текст между двойными кавычками(в Go есть и необработанные(raw) строки, которые заключаются в одинарные кавычки, но для этой главы это не имеет значения). Пример строковой константы:"
   ]
  },
  {
   "cell_type": "code",
   "execution_count": 1,
   "metadata": {},
   "outputs": [
    {
     "name": "stdout",
     "output_type": "stream",
     "text": [
      "Hello, 世界\n"
     ]
    }
   ],
   "source": [
    "\"Hello, 世界\""
   ]
  },
  {
   "cell_type": "markdown",
   "metadata": {},
   "source": [
    "Какого типа эта строковая константа? Очевидным и неверным ответом является string. На самом деле эта константа является так называемой **нетипизированной строковой константой**. Нетипизированные строковые константы обозначают константный текст, который ещё не имеет какого-либо фиксированного типа. Да это строка, но она не является значением Go типа string. Она остаётся нетипизированной строковой константой даже если дать ей имя:"
   ]
  },
  {
   "cell_type": "code",
   "execution_count": 2,
   "metadata": {},
   "outputs": [],
   "source": [
    "const hello = \"Hello, 世界\""
   ]
  },
  {
   "cell_type": "markdown",
   "metadata": {},
   "source": [
    "После этого объявления hello тоже является нетипизированной строковой константой. Нетипизированные константы являются просто значениями, у которых нет определённого типа, наличие которого заставило бы их следовать более строгим правилам, которые мешали бы комбинировать их с значениями других типов. Именно **нетипизированность** констант позволяет использовать их с большой свободой в Go.\n",
    "\n",
    "Тогда возникает вопрос: что же такое **типизированная** строковая константа? Всё очень просто: строковая константа, для которой явно указан тип:"
   ]
  },
  {
   "cell_type": "code",
   "execution_count": 3,
   "metadata": {},
   "outputs": [],
   "source": [
    "const typedHello string = \"Hello, 世界\""
   ]
  },
  {
   "cell_type": "markdown",
   "metadata": {},
   "source": [
    "Т.к. при объявлении константы typedHello был явно указан её тип, нельзя пользоваться этой константой при работе с другими типами. Т.е. следующий код работает:"
   ]
  },
  {
   "cell_type": "code",
   "execution_count": 4,
   "metadata": {},
   "outputs": [
    {
     "name": "stdout",
     "output_type": "stream",
     "text": [
      "Hello, 世界\n"
     ]
    }
   ],
   "source": [
    "import \"fmt\"\n",
    "\n",
    "var s string\n",
    "s = typedHello\n",
    "fmt.Sprint(s)"
   ]
  },
  {
   "cell_type": "markdown",
   "metadata": {},
   "source": [
    "а следующий нет:"
   ]
  },
  {
   "cell_type": "code",
   "execution_count": 5,
   "metadata": {},
   "outputs": [
    {
     "name": "stderr",
     "output_type": "stream",
     "text": [
      "4:5: cannot use typedHello (constant \"Hello, 世界\" of type string) as MyString value in assignment\n"
     ]
    }
   ],
   "source": [
    "type MyString string\n",
    "\n",
    "var m MyString\n",
    "m = typedHello\n",
    "fmt.Sprint(m)"
   ]
  },
  {
   "cell_type": "markdown",
   "metadata": {},
   "source": [
    "Переменная m имеет тип MyString, а следовательно ей нельзя присваивать значения других типов(без явного приведения, при условии что это приведение возможно, т.е. когда у типов одинаковый базовый тип). Ей можно присваивать только значения типа MyString:"
   ]
  },
  {
   "cell_type": "code",
   "execution_count": 6,
   "metadata": {},
   "outputs": [
    {
     "name": "stdout",
     "output_type": "stream",
     "text": [
      "Hello, 世界\n"
     ]
    }
   ],
   "source": [
    "type MyString string\n",
    "\n",
    "const myStringHello MyString = \"Hello, 世界\"\n",
    "var m MyString\n",
    "m = myStringHello\n",
    "fmt.Sprint(m)"
   ]
  },
  {
   "cell_type": "markdown",
   "metadata": {},
   "source": [
    "Нетипизированные строковые константы благодаря отсутствию типа можно присваивать типизированным переменным, совместимым со строковым типом(т.е. имеющим базовый тип string). Т.е. следующий код работает:"
   ]
  },
  {
   "cell_type": "code",
   "execution_count": 7,
   "metadata": {},
   "outputs": [],
   "source": [
    "m = \"Hello, 世界\""
   ]
  },
  {
   "cell_type": "markdown",
   "metadata": {},
   "source": [
    "также как и этот:"
   ]
  },
  {
   "cell_type": "code",
   "execution_count": 8,
   "metadata": {},
   "outputs": [],
   "source": [
    "m = hello"
   ]
  },
  {
   "cell_type": "markdown",
   "metadata": {},
   "source": [
    "## Тип по-умолчанию"
   ]
  },
  {
   "cell_type": "markdown",
   "metadata": {},
   "source": [
    "Если константы могут быть нетипизированными(как в случае строкового литерала), то возникает **вопрос**: как работает следующий код?"
   ]
  },
  {
   "cell_type": "code",
   "execution_count": 9,
   "metadata": {},
   "outputs": [
    {
     "name": "stdout",
     "output_type": "stream",
     "text": [
      "string\n"
     ]
    }
   ],
   "source": [
    "str := \"Hello, 世界\"\n",
    "fmt.Sprintf(\"%T\", str)"
   ]
  },
  {
   "cell_type": "markdown",
   "metadata": {},
   "source": [
    "Почему переменная str получила тип string, если \"Hello, 世界\" является нетипизированной строковой константой? Дело в том, что нетипизированные константы имеют так называемый **тип по-умолчанию**(default type) - неявный тип, который передаётся значению, когда тип не указан. Для нетипизированных строковых констант очевидно типом по-умолчанию является тип string. Таким образом выражения:"
   ]
  },
  {
   "cell_type": "code",
   "execution_count": 10,
   "metadata": {},
   "outputs": [],
   "source": [
    "str := \"Hello, 世界\""
   ]
  },
  {
   "cell_type": "markdown",
   "metadata": {},
   "source": [
    "и"
   ]
  },
  {
   "cell_type": "code",
   "execution_count": 11,
   "metadata": {},
   "outputs": [],
   "source": [
    "var str = \"Hello, 世界\""
   ]
  },
  {
   "cell_type": "markdown",
   "metadata": {},
   "source": [
    "эквивалентны выражению:"
   ]
  },
  {
   "cell_type": "code",
   "execution_count": 12,
   "metadata": {},
   "outputs": [],
   "source": [
    "var str string = \"Hello, 世界\""
   ]
  },
  {
   "cell_type": "markdown",
   "metadata": {},
   "source": [
    "О нетипизированных константах можно думать как о значениях, которые находятся в неком идеальном пространстве значений, которое является менее ограниченным, чем пространство, в которой работает система типов Go. Но чтобы сделать что-либо с константами нам нужно присвоить их переменным и когда это случается, переменным(не константам) нужен тип и константа может сказать, какого типа должна быть переменная, используя свой тип по-умолчанию.\n",
    "\n",
    "Иногда при использовании констант бывает неочевидна конечная цель значения. Рассмотрим выражение:"
   ]
  },
  {
   "cell_type": "code",
   "execution_count": 13,
   "metadata": {},
   "outputs": [
    {
     "name": "stdout",
     "output_type": "stream",
     "text": [
      "Hello, 世界\n"
     ]
    }
   ],
   "source": [
    "fmt.Sprintf(\"%s\", \"Hello, 世界\")"
   ]
  },
  {
   "cell_type": "markdown",
   "metadata": {},
   "source": [
    "fmt.Sprintf имеет следующую сигнатуру:\n",
    "\n",
    "func Sprintf(format string, a ...interface{}) string\n",
    "\n",
    "Из неё видно, что агрументы после format имеют интерфейсный тип. При вызове функции Sprintf с нетипизированными константами создаются интерфейсные значения для передачи аргументов и конкретный тип каждого аргумента равен типу по-умолчанию передаваемой нетипизированной константы. Именно это и происходит в следующем коде:"
   ]
  },
  {
   "cell_type": "code",
   "execution_count": 14,
   "metadata": {},
   "outputs": [
    {
     "name": "stdout",
     "output_type": "stream",
     "text": [
      "string: Hello, 世界\n"
     ]
    }
   ],
   "source": [
    "fmt.Sprintf(\"%T: %v\", \"Hello, 世界\", \"Hello, 世界\")"
   ]
  },
  {
   "cell_type": "markdown",
   "metadata": {},
   "source": [
    "В общем типизированные константы подчиняются всем правилам типов в Go. Нетипизированные константы благодаря отсутствию типа позволяют работать с ними более свободно. Однако они имеют тип по-умолчанию, который используется при отсутствии какой-либо другой информации о типе."
   ]
  },
  {
   "cell_type": "markdown",
   "metadata": {},
   "source": [
    "## Тип по-умолчанию определяется синтаксисом"
   ]
  },
  {
   "cell_type": "markdown",
   "metadata": {},
   "source": [
    "Тип по-умолчанию нетипизированной константы определяется его синтаксисом. Для строковых констант единственно возможным неявным типом является string. Для числовых констант можно привести следующий список:  \n",
    " - целочисленные константы - **int**\n",
    " - вещественные константы - **float64**\n",
    " - константы рун - **rune**(синоним типа int32)\n",
    " - константы комплексных чисел - **complex128**"
   ]
  },
  {
   "cell_type": "markdown",
   "metadata": {},
   "source": [
    "## Булевы константы"
   ]
  },
  {
   "cell_type": "markdown",
   "metadata": {},
   "source": [
    "Всё что мы сказали о нетипизированных строковых константах применимо и к нетипизированным булевым константам. Значения **true** или **false** можно присвоить любым переменным, совместимым с типом bool(т.е. имеющим такой базовый тип), но если задать булевым константам тип их уже нельзя смешивать с другими типами, кроме bool(без явного приведения типа)."
   ]
  },
  {
   "cell_type": "markdown",
   "metadata": {},
   "source": [
    "## Вещественные константы"
   ]
  },
  {
   "cell_type": "markdown",
   "metadata": {},
   "source": [
    "Вещественные константы очень похожи на булевы и строковые константы:"
   ]
  },
  {
   "cell_type": "code",
   "execution_count": 15,
   "metadata": {},
   "outputs": [
    {
     "name": "stdout",
     "output_type": "stream",
     "text": [
      "0\n"
     ]
    }
   ],
   "source": [
    "type MyFloat64 float64\n",
    "const Zero = 0.0\n",
    "const TypedZero float64 = 0.0\n",
    "var mf MyFloat64\n",
    "\n",
    "mf = 0.0\n",
    "mf = Zero\n",
    "// mf = TypedZero // Ошибка\n",
    "fmt.Sprint(mf)"
   ]
  },
  {
   "cell_type": "markdown",
   "metadata": {},
   "source": [
    "Но есть и своя особенность из-за наличия в Go двух вещественных типов:float32 и float64. Типом по-умолчанию для нетипизированных вещественных констант является float64, но нетипизированные строковые константы **можно без проблем** присвоить float32 переменным:"
   ]
  },
  {
   "cell_type": "code",
   "execution_count": 16,
   "metadata": {},
   "outputs": [
    {
     "name": "stdout",
     "output_type": "stream",
     "text": [
      "0\n"
     ]
    }
   ],
   "source": [
    "var f32 float32\n",
    "f32 = 1.73\n",
    "f32 = Zero\n",
    "// f32 = TypedZero // Ошибка. TypedZero имеет тип float64\n",
    "fmt.Sprint(f32)"
   ]
  },
  {
   "cell_type": "markdown",
   "metadata": {},
   "source": [
    "Вещественные константы являются хорошим моментом для введения понятия **переполнения**(overflow), или области значений.  \n",
    "В Go нетипизированные числовые константы находятся в пространстве чисел произвольной точности: они **просто** являются обычными числами. Но когда их присваивают переменным, значение константы должно уместиться в переменную. Мы можем объявить очень большую константу:"
   ]
  },
  {
   "cell_type": "code",
   "execution_count": 17,
   "metadata": {},
   "outputs": [],
   "source": [
    "const Huge = 1e1000"
   ]
  },
  {
   "cell_type": "markdown",
   "metadata": {},
   "source": [
    "Huge является просто числом, но мы не можем присвоить его чему-либо или напечатать:"
   ]
  },
  {
   "cell_type": "code",
   "execution_count": 18,
   "metadata": {},
   "outputs": [
    {
     "name": "stderr",
     "output_type": "stream",
     "text": [
      "1:12: Huge (untyped float constant 1e+1000) overflows float64\n"
     ]
    }
   ],
   "source": [
    "fmt.Sprint(Huge)"
   ]
  },
  {
   "cell_type": "markdown",
   "metadata": {},
   "source": [
    "Даже если Huge нельзя ничему присвоить он может быть полезным при использовании совместно с другими константами и использовать результат, если он может быть представлен в float64:"
   ]
  },
  {
   "cell_type": "code",
   "execution_count": 19,
   "metadata": {},
   "outputs": [
    {
     "name": "stdout",
     "output_type": "stream",
     "text": [
      "10\n"
     ]
    }
   ],
   "source": [
    "fmt.Sprint(Huge / 1e999)"
   ]
  },
  {
   "cell_type": "markdown",
   "metadata": {},
   "source": [
    "Таким же образом нетипизированные вещественные константы могут иметь очень большую точность. Например в пакете math для числа π задаётся гораздо больше цифр после запятой, чем поддерживает float64:"
   ]
  },
  {
   "cell_type": "code",
   "execution_count": 20,
   "metadata": {},
   "outputs": [],
   "source": [
    "const Pi = 3.14159265358979323846264338327950288419716939937510582097494459"
   ]
  },
  {
   "cell_type": "markdown",
   "metadata": {},
   "source": [
    "Когда это значение присваивается переменной некоторую точность мы конечно же потеряем: в результате присваивания мы получим float64(или float32) значение, наиболее близкое к Pi:"
   ]
  },
  {
   "cell_type": "code",
   "execution_count": 21,
   "metadata": {},
   "outputs": [
    {
     "name": "stdout",
     "output_type": "stream",
     "text": [
      "3.141592653589793\n"
     ]
    }
   ],
   "source": [
    "import \"math\"\n",
    "pi := math.Pi\n",
    "fmt.Sprint(pi)"
   ]
  },
  {
   "cell_type": "markdown",
   "metadata": {},
   "source": [
    "Наличие такого большого количества цифр позволяет проводить более точные вычисления с использованием констант до момента их присваивания переменным. Также это означает, что мы не будем спотыкаться о крайние случаи вещественных чисел как бесконечности или NaN'ы(деление на ноль является ошибкой компиляции, и в случае когда всё является числом нельзя получить \"не число\")."
   ]
  },
  {
   "cell_type": "markdown",
   "metadata": {},
   "source": [
    "## Целочисленные константы"
   ]
  },
  {
   "cell_type": "markdown",
   "metadata": {},
   "source": [
    "Целочисленные константы конечно имеют много общего с остальными видами констант:"
   ]
  },
  {
   "cell_type": "code",
   "execution_count": 22,
   "metadata": {},
   "outputs": [
    {
     "name": "stdout",
     "output_type": "stream",
     "text": [
      "3\n"
     ]
    }
   ],
   "source": [
    "import \"fmt\"\n",
    "\n",
    "type MyInt int\n",
    "\n",
    "const Three = 3\n",
    "const TypedThree int = 3\n",
    "var mi MyInt\n",
    "\n",
    "mi = 3\n",
    "mi = Three\n",
    "// mi = TypedThree // Ошибка\n",
    "fmt.Sprint(mi)"
   ]
  },
  {
   "cell_type": "markdown",
   "metadata": {},
   "source": [
    "То же самое можно сделать и для остальных целочисленных типов:  \n",
    "**int int8 int16 int32 int64**  \n",
    "**uint uint8 uint16 uint32 uint64**  \n",
    "**uintptr**  \n",
    "\n",
    "Плюс ещё **byte** как псевдоним для типа uint8 и **rune** как псевдоним для int32.\n",
    "\n",
    "Целочисленные значения могут быть записаны в различном виде и каждый вид имеет свой тип по-умолчанию. Для простых констант как 3 типом по-умолчанию является int, а для рун 'a' или '世' - тип rune.\n",
    "\n",
    "Ни у одной нетипизированной целочисленной константы типом по-умолчанию не является беззнаковый целый тип. Однако гибкость нетипизированных целочисленных констант позволяет нам инициализировать беззнаковые целочисленные переменные, используя простые константы:"
   ]
  },
  {
   "cell_type": "code",
   "execution_count": 23,
   "metadata": {},
   "outputs": [
    {
     "name": "stdout",
     "output_type": "stream",
     "text": [
      "uint uint uint\n"
     ]
    }
   ],
   "source": [
    "var u uint = 17\n",
    "var v = uint(17)\n",
    "w := uint(17)\n",
    "fmt.Sprintf(\"%T %T %T\", u, v, w)"
   ]
  },
  {
   "cell_type": "markdown",
   "metadata": {},
   "source": [
    "Как и с вещественными константами не все целочисленные значения помещаются в целочисленные переменные. Могут возникнуть две проблемы: либо значение слишком большое(или маленькое) или беззнаковой переменной присваивается отрицательное значение. Например, int8 может содержать значения от -128 до 127 включительно и значения, которые не входят в этот диапазон, не могут быть присвоены переменной такого типа:"
   ]
  },
  {
   "cell_type": "code",
   "execution_count": 24,
   "metadata": {},
   "outputs": [
    {
     "name": "stderr",
     "output_type": "stream",
     "text": [
      "1:15: 128 (untyped int constant) overflows int8\n"
     ]
    }
   ],
   "source": [
    "var i8 int8 = 128"
   ]
  },
  {
   "cell_type": "markdown",
   "metadata": {},
   "source": [
    "Таким же образом нельзя присвоить отрицательное значение переменной типа byte, которая может хранить значения от 0 до 255 включительно:"
   ]
  },
  {
   "cell_type": "code",
   "execution_count": 25,
   "metadata": {},
   "outputs": [
    {
     "name": "stderr",
     "output_type": "stream",
     "text": [
      "1:14: -1 (untyped int constant) overflows byte\n"
     ]
    }
   ],
   "source": [
    "var b byte = -1"
   ]
  },
  {
   "cell_type": "markdown",
   "metadata": {},
   "source": [
    "## Генератор констант iota"
   ]
  },
  {
   "cell_type": "markdown",
   "metadata": {},
   "source": [
    "Объявление const может использовать генератор констант **iota**, который позволяет инициализировать константы по какому-то общему правилу. Внутри объявления const значение iota первоначально равно 0, а далее оно увеличивается на 1 для каждого элемента. В качестве примера можно привести объявление констант для дней в пакете time:"
   ]
  },
  {
   "cell_type": "code",
   "execution_count": 26,
   "metadata": {},
   "outputs": [
    {
     "name": "stdout",
     "output_type": "stream",
     "text": [
      "0 6\n"
     ]
    }
   ],
   "source": [
    "type WeekDay int\n",
    "\n",
    "const (\n",
    "    Sunday WeekDay = iota\n",
    "    Monday\n",
    "    Tuesday\n",
    "    Wednesday\n",
    "    Thursday\n",
    "    Friday\n",
    "    Saturday\n",
    ")\n",
    "\n",
    "fmt.Sprint(Sunday, Saturday)"
   ]
  },
  {
   "cell_type": "markdown",
   "metadata": {},
   "source": [
    "Можно использовать и более сложные выражения:"
   ]
  },
  {
   "cell_type": "code",
   "execution_count": 27,
   "metadata": {},
   "outputs": [
    {
     "name": "stdout",
     "output_type": "stream",
     "text": [
      "00000001\n",
      "00000010\n",
      "00000100\n"
     ]
    }
   ],
   "source": [
    "const (\n",
    "    Small = 1 << iota\n",
    "    Medium\n",
    "    Huge\n",
    ")\n",
    "\n",
    "fmt.Sprintf(\"%08b\\n%08b\\n%08b\", Small, Medium, Huge)"
   ]
  }
 ],
 "metadata": {
  "kernelspec": {
   "display_name": "Go (lgo)",
   "language": "go",
   "name": "lgo"
  },
  "language_info": {
   "file_extension": "",
   "mimetype": "",
   "name": "go",
   "version": ""
  }
 },
 "nbformat": 4,
 "nbformat_minor": 2
}
