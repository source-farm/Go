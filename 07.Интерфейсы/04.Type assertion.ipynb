{
 "cells": [
  {
   "cell_type": "markdown",
   "metadata": {},
   "source": [
    "# Type assertion"
   ]
  },
  {
   "cell_type": "markdown",
   "metadata": {},
   "source": [
    "**Type assertion** - это операция, которую можно применить к значению интерфейсного типа. В общем виде эта операция выглядит как **x.(T)**, где x - это выражение интерфейсного типа, а T - некоторый тип(конкретный или интерфейсный). Type assertion работает с динамическим типом интерфейсного значения. Тут возможны два варианта:  \n",
    "1. **T является конкретным типом**. В этом случае проверяется совпадает ли динамический тип x с типом T. Если совпадает, то результатом является динамическое значение x, которое конечно же имеет тип T. Другими словами, операция type assertion с конкретным типом извлекает конкретное значение из операнда:"
   ]
  },
  {
   "cell_type": "code",
   "execution_count": 1,
   "metadata": {},
   "outputs": [
    {
     "name": "stdout",
     "output_type": "stream",
     "text": [
      "*os.File\n"
     ]
    }
   ],
   "source": [
    "import (\n",
    "    \"fmt\"\n",
    "    \"io\"\n",
    "    \"os\"\n",
    ")\n",
    "\n",
    "var w io.Writer      // Интерфейсное значение.\n",
    "w = os.Stdout        // Присваивание проходит, т.к. os.Stdout удовлетворяет интерфейсу io.Writer.\n",
    "f := w.(*os.File)    // Type assertion проходит, т.к. динамический тип w это тип *os.File.\n",
    "fmt.Sprintf(\"%T\", f)"
   ]
  },
  {
   "cell_type": "markdown",
   "metadata": {},
   "source": [
    " Если динамический тип x не равен T, то происходит **паника**:"
   ]
  },
  {
   "cell_type": "code",
   "execution_count": null,
   "metadata": {},
   "outputs": [],
   "source": [
    "import \"bytes\"\n",
    "// Следующий код вызовет панику.\n",
    "c := w.(*bytes.Buffer)"
   ]
  },
  {
   "cell_type": "markdown",
   "metadata": {},
   "source": [
    "2. **Т является интерфейсным типом**. В этом случае проверяется удовлетворяет ли динамический тип x интерфейсному типу T. Если удовлетворяет, то результатом операции является значение интерфейсного типа T, у которого динамические тип и значение точно такие же, как и у интерфейсного значения x. Другими словами, type assertion с интерфейсным типом изменяет тип выражения, возможно позволяя получить доступ к большему количеству методов. Если динамический тип x не удовлетворяет интерфейсу T, то происходит паника."
   ]
  },
  {
   "cell_type": "code",
   "execution_count": 2,
   "metadata": {},
   "outputs": [],
   "source": [
    "var w io.Writer\n",
    "w = os.Stdout\n",
    "// Динамический тип w равен *os.File и этот тип удовлетворяет интерфейсу io.ReadWriter.\n",
    "// Именно поэтому работает следующий код.\n",
    "rw := w.(io.ReadWriter)"
   ]
  },
  {
   "cell_type": "markdown",
   "metadata": {},
   "source": [
    "Вне зависимости от того какой тип T используется в операции type assertion(конкретный или интерфейсный), если операнд(т.е. x) является nil'ом, то происходит паника:"
   ]
  },
  {
   "cell_type": "code",
   "execution_count": null,
   "metadata": {},
   "outputs": [],
   "source": [
    "var w io.ReadWriter\n",
    "var r io.Reader\n",
    "r = w\n",
    "// Следующая строка вызовет панику.\n",
    "r = w.(io.Reader)"
   ]
  },
  {
   "cell_type": "markdown",
   "metadata": {},
   "source": [
    "Для того чтобы не вызывать панику при вызове операции type assertion, можно воспользоваться второй переменной, указывающей на результат преобразования:"
   ]
  },
  {
   "cell_type": "code",
   "execution_count": 3,
   "metadata": {},
   "outputs": [
    {
     "name": "stdout",
     "output_type": "stream",
     "text": [
      "true\n",
      "false\n"
     ]
    }
   ],
   "source": [
    "import \"bytes\"\n",
    "\n",
    "var w io.Writer = os.Stdout\n",
    "f, ok := w.(*os.File)\n",
    "fmt.Println(ok)\n",
    "\n",
    "// type assertion не проходит, но нет также и паники. b равен nil.\n",
    "b, ok := w.(*bytes.Buffer)\n",
    "fmt.Sprint(ok)"
   ]
  },
  {
   "cell_type": "markdown",
   "metadata": {},
   "source": [
    "## Type switch"
   ]
  },
  {
   "cell_type": "markdown",
   "metadata": {},
   "source": [
    "Для того чтобы не писать длинные цепочки конструкций вида if else при использовании операций type assertion можно воспользоваться специальным видом оператора switch, который называется **type switch**. В самом простом виде этот оператор состоит из операнда **x.(type)** - здесь type это буквально текст, который нужно набирать, а не какой-то другой тип, который нужно подставлять - и вариантов case для каждого интересующего нас типа. Оператор type switch позволяет нам определить несколько направлений ветвления в зависимости от динамического типа интерфейсного значения x:"
   ]
  },
  {
   "cell_type": "code",
   "execution_count": 4,
   "metadata": {},
   "outputs": [
    {
     "name": "stdout",
     "output_type": "stream",
     "text": [
      "23\n",
      "TRUE\n",
      "UNKNOWN\n"
     ]
    }
   ],
   "source": [
    "func foo(x interface{}) string {\n",
    "    switch x.(type) {\n",
    "        case nil:\n",
    "            return \"nil\"\n",
    "        \n",
    "        case int:\n",
    "            return fmt.Sprintf(\"%d\", x)\n",
    "        \n",
    "        case bool:\n",
    "            // Каждый case это новый лексический блок, в котором переменная с таким\n",
    "            // же названием как и в внешнем блоке, может перекрыть внешнюю.\n",
    "            x := x.(bool)\n",
    "            if x {\n",
    "                return \"TRUE\"\n",
    "            }\n",
    "            return \"FALSE\"\n",
    "        \n",
    "        default:\n",
    "            return \"UNKNOWN\"\n",
    "    }\n",
    "}\n",
    "\n",
    "fmt.Println(foo(23))\n",
    "fmt.Println(foo(true))\n",
    "fmt.Sprint(foo(1.2))"
   ]
  },
  {
   "cell_type": "markdown",
   "metadata": {},
   "source": [
    "В этом примере в случае case bool после того как мы уже точно узнали, что динамический тип x равен bool, мы провели операцию type assertion, чтобы получить значение типа bool(в операторе if можно использовать только такие значения). Оператор type switch позволяет выполнить это действие один раз в самом начале и в каждом case'е операнд будет иметь такой тип, который используется в этом case'e. Но здесь есть и исключение: когда в case'е указано несколько типов, то этот case получает исходное интерфейсное значение:"
   ]
  },
  {
   "cell_type": "code",
   "execution_count": 5,
   "metadata": {},
   "outputs": [
    {
     "name": "stdout",
     "output_type": "stream",
     "text": [
      "23\n",
      "TRUE\n",
      "UNKNOWN\n"
     ]
    }
   ],
   "source": [
    "func foo(x interface{}) string {\n",
    "    switch x := x.(type) {\n",
    "        case nil:\n",
    "            return \"nil\"\n",
    "        \n",
    "        case int, uint:\n",
    "            // Здесь x имеет тип interface{}.\n",
    "            return fmt.Sprintf(\"%d\", x)\n",
    "        \n",
    "        case bool:\n",
    "            // x имеет тип bool.\n",
    "            if x {\n",
    "                return \"TRUE\"\n",
    "            }\n",
    "            return \"FALSE\"\n",
    "        \n",
    "        default:\n",
    "            return \"UNKNOWN\"\n",
    "    }\n",
    "}\n",
    "\n",
    "fmt.Println(foo(23))\n",
    "fmt.Println(foo(true))\n",
    "fmt.Sprint(foo(1.2))"
   ]
  }
 ],
 "metadata": {
  "kernelspec": {
   "display_name": "Go (lgo)",
   "language": "go",
   "name": "lgo"
  },
  "language_info": {
   "file_extension": "",
   "mimetype": "",
   "name": "go",
   "version": ""
  }
 },
 "nbformat": 4,
 "nbformat_minor": 2
}
