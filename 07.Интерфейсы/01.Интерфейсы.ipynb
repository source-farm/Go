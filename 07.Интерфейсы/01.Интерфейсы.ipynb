{
 "cells": [
  {
   "cell_type": "markdown",
   "metadata": {},
   "source": [
    "# Интерфейсы как соглашения"
   ]
  },
  {
   "cell_type": "markdown",
   "metadata": {},
   "source": [
    "До сих пор мы рассматривали только конкретные типы данных. Мы всегда знаем, что из себя представляет конкретный тип данных и что с ним можно делать. В Go есть и другой тип данных, называемый **интерфейсным типом**. Интерфейсы по-другому называют **абстрактными типами**. Интерфейсный тип не раскрывает внутреннюю структуру своих значений или множество операций, которые поддерживает, а лишь предоставляет методы. Когда у нас есть значение интерфейсного типа мы не знаем, что он из себя представляет; мы только знаем что с ним можно делать, а точнее, какое поведение предоставляется его методами.\n",
    "\n",
    "Интерфейсы можно рассматривать как соглашения. Если некий тип удовлетворяет интерфейсу, то значения такого типа можно использовать ввезде, где используется этот интерфейс. Рассмотрим например функции Printf и Sprintf из пакета fmt. Эти функции являются лишь обёртками над более обобщённой функцией Fprintf. Fprintf имеет следующую сигнатуру:"
   ]
  },
  {
   "cell_type": "code",
   "execution_count": null,
   "metadata": {},
   "outputs": [],
   "source": [
    "func Fprintf(w io.Writer, format string, a ...interface{}) (n int, err error)"
   ]
  },
  {
   "cell_type": "markdown",
   "metadata": {},
   "source": [
    "Первым аргументом этой функции является интерфейс Writer. Этот интерфейс имеет следующий вид:"
   ]
  },
  {
   "cell_type": "code",
   "execution_count": null,
   "metadata": {},
   "outputs": [],
   "source": [
    "type Writer interface {\n",
    "    Write(p []byte) (n int, err error)\n",
    "}"
   ]
  },
  {
   "cell_type": "markdown",
   "metadata": {},
   "source": [
    "Любой тип, который определяет метод Write именно с такой сигнатурой, которая определена в этом интерфейсе, удовлетворяет интерфейсу Writer, а значит, значения такого типа можно передать функции Fprintf. Именно так и работают функции Printf и Sprintf: Printf передаёт значение типа \\*os.File, а Sprintf - \\*bytes.Buffer. Оба этих типа удовлетворяют интерфейсу Writer(почему необходимо использовать именно указатели мы узнаем позже). Можно придумать и свой тип, который удовлетворяет Writer'у:"
   ]
  },
  {
   "cell_type": "code",
   "execution_count": 1,
   "metadata": {},
   "outputs": [
    {
     "name": "stdout",
     "output_type": "stream",
     "text": [
      "15\n"
     ]
    }
   ],
   "source": [
    "import \"fmt\"\n",
    "\n",
    "type ByteCounter int\n",
    "\n",
    "func (c *ByteCounter) Write(p []byte) (int, error) {\n",
    "    *c += ByteCounter(len(p))\n",
    "    return len(p), nil\n",
    "}\n",
    "\n",
    "var c ByteCounter\n",
    "fmt.Fprintf(&c, \"Brand New %s\", \"World\")\n",
    "fmt.Sprint(c)"
   ]
  },
  {
   "cell_type": "markdown",
   "metadata": {},
   "source": [
    "Есть также и другой очень распространённый интерфейс, который позволяет выводить свои типы данных с использованием функций пакета fmt. Это интерфейс Stringer:"
   ]
  },
  {
   "cell_type": "code",
   "execution_count": null,
   "metadata": {},
   "outputs": [],
   "source": [
    "type Stringer interface {\n",
    "    String() string\n",
    "}"
   ]
  },
  {
   "cell_type": "markdown",
   "metadata": {},
   "source": [
    "Рассмотрим пример:"
   ]
  },
  {
   "cell_type": "code",
   "execution_count": 2,
   "metadata": {},
   "outputs": [
    {
     "name": "stdout",
     "output_type": "stream",
     "text": [
      "R:AA, G:BB, B:CC, A:FF\n"
     ]
    }
   ],
   "source": [
    "type Color uint32\n",
    "\n",
    "func (c *Color) String() string {\n",
    "    return fmt.Sprintf(\"R:%X, G:%X, B:%X, A:%X\", (*c >> 24) & 0xFF, (*c >> 16) & 0xFF, (*c >> 8) & 0xFF, *c & 0xFF)\n",
    "}\n",
    "\n",
    "var c Color\n",
    "c = 0xAABBCCFF\n",
    "fmt.Sprint(&c)"
   ]
  },
  {
   "cell_type": "markdown",
   "metadata": {},
   "source": [
    "# Интерфейсный тип"
   ]
  },
  {
   "cell_type": "markdown",
   "metadata": {},
   "source": [
    "Интерфейсный тип определяет множество методов, который должен определить конкретный тип, чтобы его можно было рассматривать как экземпляр этого интрефейса.\n",
    "\n",
    "**io.Writer** является наиболее используемым интерфейсом, т.к. он предоставляет абстракцию всех типов, в которые можно что-то записать, как например файлы, буферы в памяти, сетевые соединения и т.д. Пакет io определяет ещё и другие полезные интерфейсы:**Reader** представляет тип, из которого можно что-то вычитать, **Closer** - абстракция для всего, что можно закрыть:"
   ]
  },
  {
   "cell_type": "code",
   "execution_count": null,
   "metadata": {},
   "outputs": [],
   "source": [
    "type Reader interface {\n",
    "    Read(p []byte) (n int, err error)\n",
    "}\n",
    "\n",
    "type Writer interface {\n",
    "    Write(p []byte) (n int, err error)\n",
    "}\n",
    "\n",
    "type Closer interface {\n",
    "    Close() error\n",
    "}"
   ]
  },
  {
   "cell_type": "markdown",
   "metadata": {},
   "source": [
    "Интерфейсы также поддерживают **встраивание**(embedding): новые интерфейсы можно определить на основе существующих. Для интерфейса встраивание означает, что он получает все методы, которые были объявлены в встраиваемом интерфейсе. Пример:"
   ]
  },
  {
   "cell_type": "code",
   "execution_count": null,
   "metadata": {},
   "outputs": [],
   "source": [
    "type ReadWriter interface {\n",
    "    Reader\n",
    "    Writer\n",
    "}"
   ]
  },
  {
   "cell_type": "markdown",
   "metadata": {},
   "source": [
    "Этот интерфейс эквивалентен следующему:"
   ]
  },
  {
   "cell_type": "code",
   "execution_count": null,
   "metadata": {},
   "outputs": [],
   "source": [
    "type ReadWriter interface {\n",
    "    Read(p []byte) (n int, err error)\n",
    "    Write(p []byte) (n int, err error)\n",
    "}"
   ]
  },
  {
   "cell_type": "markdown",
   "metadata": {},
   "source": [
    "# Соответствие интерфейсу"
   ]
  },
  {
   "cell_type": "markdown",
   "metadata": {},
   "source": [
    "Тип **соответствует**(или удовлетворяет(satisfies)) интерфейсу, если он определяет все методы, которые были объявлены в этом интерфейсе. Например, \\*bytes.Buffer соответствует интерфейсам Reader, Writer и ReadWriter, но не интерфейсу Closer, т.к. в нём нет метода Close. Разработчики на Go говорят, что конкретный тип является(\"is\") интерфейсным типом, имея в виду, что он удовлетворяет интерфейсу. Например, можно сказать, что \\*bytes.Buffer является io.Writer'ом.\n",
    "\n",
    "Правило **присваиваемости** для интерфейсов звучит очень просто: выражение можно присвоить интерфейсу, только если его тип соответствует интерфейсу:"
   ]
  },
  {
   "cell_type": "code",
   "execution_count": 3,
   "metadata": {},
   "outputs": [
    {
     "name": "stderr",
     "output_type": "stream",
     "text": [
      "11:5: cannot use time.Second (constant 1000000000 of type time.Duration) as io.Writer value in assignment: missing method Write\n"
     ]
    }
   ],
   "source": [
    "import (\n",
    "    \"io\"\n",
    "    \"os\"\n",
    "    \"bytes\"\n",
    "    \"time\"\n",
    ")\n",
    "\n",
    "var w io.Writer\n",
    "w = os.Stdout         // Ошибки нет: *os.File определяет метод Write.\n",
    "w = new(bytes.Buffer) // Ошибки нет: *bytes.Buffer определяет метод Write.\n",
    "w = time.Second       // Есть ошибка: time.Second не определяет метод Write."
   ]
  },
  {
   "cell_type": "markdown",
   "metadata": {},
   "source": [
    "Ещё пример:"
   ]
  },
  {
   "cell_type": "code",
   "execution_count": 4,
   "metadata": {},
   "outputs": [
    {
     "name": "stderr",
     "output_type": "stream",
     "text": [
      "9:7: cannot use new(bytes.Buffer) (value of type *bytes.Buffer) as io.ReadWriteCloser value in assignment: missing method Close\n"
     ]
    }
   ],
   "source": [
    "import (\n",
    "    \"io\"\n",
    "    \"os\"\n",
    "    \"bytes\"\n",
    ")\n",
    "\n",
    "var rwc io.ReadWriteCloser\n",
    "rwc = os.Stdout         // Ошибки нет: *os.File определяет метод Write.\n",
    "rwc = new(bytes.Buffer) // Есть ошибка: bytes.Buffer не определяет метод Close."
   ]
  },
  {
   "cell_type": "markdown",
   "metadata": {},
   "source": [
    "Это правило применимо даже когда правая часть сама по себе является интерфейсом:"
   ]
  },
  {
   "cell_type": "code",
   "execution_count": 5,
   "metadata": {},
   "outputs": [
    {
     "name": "stderr",
     "output_type": "stream",
     "text": [
      "6:7: cannot use w (variable of type io.Writer) as io.ReadWriteCloser value in assignment: missing method Close\n"
     ]
    }
   ],
   "source": [
    "import \"io\"\n",
    "\n",
    "var w io.Writer\n",
    "var rwc io.ReadWriteCloser\n",
    "w = rwc  // Ошибки нет\n",
    "rwc = w  // Есть ошибка"
   ]
  },
  {
   "cell_type": "markdown",
   "metadata": {},
   "source": [
    "## Замечание по соответствию интерфейсу"
   ]
  },
  {
   "cell_type": "markdown",
   "metadata": {},
   "source": [
    "В Go есть тонкая особенность, связанная с определением того, входит ли метод в тип. Когда мы рассматривали методы в главе 06.01 мы говорили, что конкретный тип T может объявить некоторые методы с получателем значением типа T, а некоторые с получателем указателем типа \\*T и для аргумента типа T мы могли вызвать метод с получателем \\*T, если этот аргумент являлся **переменной**: компилятор неявно извлекал адрес. Но это является лишь **синтаксическим сахаром**: значения типа T **не владеют** всеми методами, которыми владеют значения типа \\*T, а следовательно могут соответствовать меньшему количеству интерфейсов. Давайте рассмотрим пример, чтобы всё стало яснее:"
   ]
  },
  {
   "cell_type": "code",
   "execution_count": 6,
   "metadata": {},
   "outputs": [],
   "source": [
    "import \"fmt\"\n",
    "\n",
    "type Foo int\n",
    "\n",
    "func (f *Foo) String() string {\n",
    "    return fmt.Sprint(\"%d\", *f)\n",
    "}"
   ]
  },
  {
   "cell_type": "markdown",
   "metadata": {},
   "source": [
    "Методом String владеет только тип \\*Foo, а следовательно только \\*Foo удовлетворяет интерфейсу Stringer:"
   ]
  },
  {
   "cell_type": "code",
   "execution_count": 7,
   "metadata": {},
   "outputs": [
    {
     "name": "stderr",
     "output_type": "stream",
     "text": [
      "3:22: cannot use f (variable of type github.com/yunabe/lgo/sess7b2274696d65223a313533343538353034373335343439353837327d/exec6.Foo) as fmt.Stringer value in variable declaration: missing method String\n"
     ]
    }
   ],
   "source": [
    "var f Foo\n",
    "var s fmt.Stringer = &f // Ошибки нет, т.к. *Foo владеет методом String.\n",
    "var t fmt.Stringer = f  // Есть ошибка, т.к. Foo не владеет методом String."
   ]
  },
  {
   "cell_type": "markdown",
   "metadata": {},
   "source": [
    "# Пустой интерфейс"
   ]
  },
  {
   "cell_type": "markdown",
   "metadata": {},
   "source": [
    "Интерфейс io.Writer утверждает, что конкретные типы, которые соответствуют этому интерфейсу, поддерживают запись. О чём может тогда утверждать **пустой интерфейс interface{}**, который вообще не содержит методов? Верно: ничего. Т.к. пустой интерфейс не налагает на конкретный тип каких-либо тревований, **любой тип** соответствует этому интерфейсу:"
   ]
  },
  {
   "cell_type": "code",
   "execution_count": 8,
   "metadata": {},
   "outputs": [],
   "source": [
    "var any interface{}\n",
    "any = 42\n",
    "any = true\n",
    "any = map[string]int{\"one\":1}"
   ]
  },
  {
   "cell_type": "markdown",
   "metadata": {},
   "source": [
    "От того что мы создали переменую типа пустого интерфейса и присвоили ей значение мы много не выиграли, т.к. у пустого интерфейса нет методов, а следовательно не можем ничего с ним сделать. Нам необходим способ вернуться обратно к тому значению, которые было присвоено интерфейсу. Мы рассмотрим как это можно сделать, используя **type assertion** в последующих главах."
   ]
  }
 ],
 "metadata": {
  "kernelspec": {
   "display_name": "Go (lgo)",
   "language": "go",
   "name": "lgo"
  },
  "language_info": {
   "file_extension": "",
   "mimetype": "",
   "name": "go",
   "version": ""
  }
 },
 "nbformat": 4,
 "nbformat_minor": 2
}
