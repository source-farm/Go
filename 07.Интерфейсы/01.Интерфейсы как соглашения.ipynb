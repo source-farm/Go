{
 "cells": [
  {
   "cell_type": "markdown",
   "metadata": {},
   "source": [
    "# Интерфейсы как соглашения"
   ]
  },
  {
   "cell_type": "markdown",
   "metadata": {},
   "source": [
    "До сих пор мы рассматривали только конкретные типы данных. Мы всегда знаем, что из себя представляет конкретный тип данных и что с ним можно делать. В Go есть и другой тип данных, называемый **интерфейсным типом**. Интерфейсы по-другому называют **абстрактными типами**. Интерфейсный тип не раскрывает внутреннюю структуру своих значений или множество операций, которые поддерживает, а лишь предоставляет методы. Когда у нас есть значение интерфейсного типа мы не знаем, что он из себя представляет; мы только знаем что с ним можно делать, а точнее, какое поведение предоставляется его методами.\n",
    "\n",
    "Интерфейсы можно рассматривать как соглашения. Если некий тип удовлетворяет интерфейсу, то значения такого типа можно использовать ввезде, где используется этот интерфейс. Рассмотрим например функции Printf и Sprintf из пакета fmt. Эти функции являются лишь обёртками над более обобщённой функцией Fprintf. Fprintf имеет следующую сигнатуру:"
   ]
  },
  {
   "cell_type": "code",
   "execution_count": null,
   "metadata": {},
   "outputs": [],
   "source": [
    "func Fprintf(w io.Writer, format string, a ...interface{}) (n int, err error)"
   ]
  },
  {
   "cell_type": "markdown",
   "metadata": {},
   "source": [
    "Первым аргументом этой функции является интерфейс Writer. Этот интерфейс имеет следующий вид:"
   ]
  },
  {
   "cell_type": "code",
   "execution_count": null,
   "metadata": {},
   "outputs": [],
   "source": [
    "type Writer interface {\n",
    "    Write(p []byte) (n int, err error)\n",
    "}"
   ]
  },
  {
   "cell_type": "markdown",
   "metadata": {},
   "source": [
    "Любой тип, который определяет метод Write именно с такой сигнатурой, которая определена в этом интерфейсе, удовлетворяет интерфейсу Writer, а значит, значения такого типа можно передать функции Fprintf. Именно так и работают функции Printf и Sprintf: Printf передаёт значение типа \\*os.File, а Sprintf - \\*bytes.Buffer. Оба этих типа удовлетворяют интерфейсу Writer(почему необходимо использовать именно указатели мы узнаем позже). Можно придумать и свой тип, который удовлетворяет Writer'у:"
   ]
  },
  {
   "cell_type": "code",
   "execution_count": 3,
   "metadata": {},
   "outputs": [
    {
     "name": "stdout",
     "output_type": "stream",
     "text": [
      "15\n"
     ]
    }
   ],
   "source": [
    "import \"fmt\"\n",
    "\n",
    "type ByteCounter int\n",
    "\n",
    "func (c *ByteCounter) Write(p []byte) (int, error) {\n",
    "    *c += ByteCounter(len(p))\n",
    "    return len(p), nil\n",
    "}\n",
    "\n",
    "var c ByteCounter\n",
    "fmt.Fprintf(&c, \"Brand New %s\", \"World\")\n",
    "fmt.Sprint(c)"
   ]
  },
  {
   "cell_type": "markdown",
   "metadata": {},
   "source": [
    "Есть также и другой очень распространённый интерфейс, который позволяет выводить свои типы данных с использованием функций пакета fmt. Это интерфейс Stringer:"
   ]
  },
  {
   "cell_type": "code",
   "execution_count": null,
   "metadata": {},
   "outputs": [],
   "source": [
    "type Stringer interface {\n",
    "    String() string\n",
    "}"
   ]
  },
  {
   "cell_type": "markdown",
   "metadata": {},
   "source": [
    "Рассмотрим пример:"
   ]
  },
  {
   "cell_type": "code",
   "execution_count": 5,
   "metadata": {},
   "outputs": [
    {
     "name": "stdout",
     "output_type": "stream",
     "text": [
      "R:AA, G:BB, B:CC, A:FF\n"
     ]
    }
   ],
   "source": [
    "type Color uint32\n",
    "\n",
    "func (c *Color) String() string {\n",
    "    return fmt.Sprintf(\"R:%X, G:%X, B:%X, A:%X\", (*c >> 24) & 0xFF, (*c >> 16) & 0xFF, (*c >> 8) & 0xFF, *c & 0xFF)\n",
    "}\n",
    "\n",
    "var c Color\n",
    "c = 0xAABBCCFF\n",
    "fmt.Sprint(&c)"
   ]
  }
 ],
 "metadata": {
  "kernelspec": {
   "display_name": "Go (lgo)",
   "language": "go",
   "name": "lgo"
  },
  "language_info": {
   "file_extension": "",
   "mimetype": "",
   "name": "go",
   "version": ""
  }
 },
 "nbformat": 4,
 "nbformat_minor": 2
}
