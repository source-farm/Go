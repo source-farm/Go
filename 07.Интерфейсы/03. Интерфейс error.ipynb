{
 "cells": [
  {
   "cell_type": "markdown",
   "metadata": {},
   "source": [
    "# Интерфейс error"
   ]
  },
  {
   "cell_type": "markdown",
   "metadata": {},
   "source": [
    "Для возврата ошибки в Go часто используется тип **error**. Этот тип является интерфейсным типом и выглядит следующим образом:"
   ]
  },
  {
   "cell_type": "code",
   "execution_count": null,
   "metadata": {},
   "outputs": [],
   "source": [
    "type error interface {\n",
    "    Error() string\n",
    "}"
   ]
  },
  {
   "cell_type": "markdown",
   "metadata": {},
   "source": [
    "Т.е. интерфейсу error удовлетворяют все типы, у которых есть метод Error, который возвращает значение типа string. Для создания ошибок можно воспользоваться пакетом errors:"
   ]
  },
  {
   "cell_type": "code",
   "execution_count": 11,
   "metadata": {},
   "outputs": [
    {
     "name": "stdout",
     "output_type": "stream",
     "text": [
      "My error\n",
      "My error\n"
     ]
    }
   ],
   "source": [
    "import (\n",
    "    \"fmt\"\n",
    "    \"errors\"\n",
    ")\n",
    "\n",
    "var e error = errors.New(\"My error\")\n",
    "fmt.Println(e.Error())\n",
    "fmt.Sprintf(\"%s\", e)"
   ]
  },
  {
   "cell_type": "markdown",
   "metadata": {},
   "source": [
    "Каждый вызов New создаёт новую ошибку, которая не равна другой ошибке, даже если она имеет то же самое строковое представление:"
   ]
  },
  {
   "cell_type": "code",
   "execution_count": 12,
   "metadata": {},
   "outputs": [
    {
     "name": "stdout",
     "output_type": "stream",
     "text": [
      "false\n"
     ]
    }
   ],
   "source": [
    "fmt.Sprint(errors.New(\"Fault\") == errors.New(\"Fault\"))"
   ]
  }
 ],
 "metadata": {
  "kernelspec": {
   "display_name": "Go (lgo)",
   "language": "go",
   "name": "lgo"
  },
  "language_info": {
   "file_extension": "",
   "mimetype": "",
   "name": "go",
   "version": ""
  }
 },
 "nbformat": 4,
 "nbformat_minor": 2
}
