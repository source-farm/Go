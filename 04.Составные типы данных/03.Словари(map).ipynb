{
 "cells": [
  {
   "cell_type": "markdown",
   "metadata": {},
   "source": [
    "# Словарь"
   ]
  },
  {
   "cell_type": "markdown",
   "metadata": {},
   "source": [
    "**Хеш-таблица** - это набор пар ключ-значение, в котором все ключи различны и значения, связанные с ключами, могут быть получены, обновлены или удалены в среднем за фиксированное количество операций сравнения ключей вне зависимости от размера.\n",
    "\n",
    "В Go **словарь**(map) это ссылка на хеш-таблицу. Тип словарь описывается как **map[K]V**, где K и V это типы ключей и значений. Все ключи и все значения словаря имеют одинаковый тип, но необъязательно тип ключей должен совпадать с типом значений. Тип ключей K должен быть **сравнимым** с помощью == типом, чтобы словарь мог проверить равен ли ключ какому-либо ключу, который уже в нём есть. Хотя вещественные числа и являются сравнимыми, не рекомендуется использовать их в качестве ключей словаря. На тип значений V не накладывается никаких ограничений.\n",
    "\n",
    "Встроенная функция **make** позволяет создавать словари:"
   ]
  },
  {
   "cell_type": "code",
   "execution_count": 1,
   "metadata": {},
   "outputs": [],
   "source": [
    "ages := make(map[string]int)"
   ]
  },
  {
   "cell_type": "markdown",
   "metadata": {},
   "source": [
    "Также для этого можно использовать **литерал словаря**, с помощью которого можно сразу указывать начальные значения:"
   ]
  },
  {
   "cell_type": "code",
   "execution_count": 2,
   "metadata": {},
   "outputs": [],
   "source": [
    "ages := map[string]int{\n",
    "    \"Alice\": 21,\n",
    "    \"John\": 4,\n",
    "    \"Bob\": 28,\n",
    "}"
   ]
  },
  {
   "cell_type": "markdown",
   "metadata": {},
   "source": [
    "Этот код эквивалентен следующему:"
   ]
  },
  {
   "cell_type": "code",
   "execution_count": 3,
   "metadata": {},
   "outputs": [],
   "source": [
    "ages := make(map[string]int)\n",
    "ages[\"Alice\"] = 21\n",
    "ages[\"Bob\"] = 28"
   ]
  },
  {
   "cell_type": "markdown",
   "metadata": {},
   "source": [
    "Пустой словарь можно создать литералом **map[string]int{}**."
   ]
  },
  {
   "cell_type": "markdown",
   "metadata": {},
   "source": [
    "Доступ к элементам словаря можно получить обычной операцией индексирования:"
   ]
  },
  {
   "cell_type": "code",
   "execution_count": 4,
   "metadata": {},
   "outputs": [
    {
     "name": "stdout",
     "output_type": "stream",
     "text": [
      "22\n"
     ]
    }
   ],
   "source": [
    "import \"fmt\"\n",
    "\n",
    "ages[\"Alice\"] = 22\n",
    "fmt.Sprint(ages[\"Alice\"])"
   ]
  },
  {
   "cell_type": "markdown",
   "metadata": {},
   "source": [
    "Если элемента в словаре нет, то возвращается нулевое значение типа значения словаря:"
   ]
  },
  {
   "cell_type": "code",
   "execution_count": 5,
   "metadata": {},
   "outputs": [
    {
     "name": "stdout",
     "output_type": "stream",
     "text": [
      "0\n",
      "1\n"
     ]
    }
   ],
   "source": [
    "jamesAge := ages[\"James\"]\n",
    "fmt.Println(jamesAge)\n",
    "\n",
    "// Этот код работает, т.к. в правой части будет вычислено значение выражения\n",
    "// 0 + 1 из-за того что в словаре отсутствует ключ \"James\".\n",
    "ages[\"James\"] = ages[\"James\"] + 1\n",
    "fmt.Sprint(ages[\"James\"])"
   ]
  },
  {
   "cell_type": "markdown",
   "metadata": {},
   "source": [
    "Удалить элемент можно встроенной функцией **delete**:"
   ]
  },
  {
   "cell_type": "code",
   "execution_count": 6,
   "metadata": {},
   "outputs": [
    {
     "name": "stdout",
     "output_type": "stream",
     "text": [
      "map[James:1 Bob:28]\n"
     ]
    }
   ],
   "source": [
    "delete(ages, \"Alice\")\n",
    "fmt.Sprint(ages)"
   ]
  },
  {
   "cell_type": "markdown",
   "metadata": {},
   "source": [
    "Если элемента с переданным ключём нет, то ничего не произойдёт:"
   ]
  },
  {
   "cell_type": "code",
   "execution_count": 7,
   "metadata": {},
   "outputs": [
    {
     "name": "stdout",
     "output_type": "stream",
     "text": [
      "map[Bob:28 James:1]\n"
     ]
    }
   ],
   "source": [
    "delete(ages, \"Green\")\n",
    "fmt.Sprint(ages)"
   ]
  },
  {
   "cell_type": "markdown",
   "metadata": {},
   "source": [
    "Короткие операции присваивания также работают и с словарями:"
   ]
  },
  {
   "cell_type": "code",
   "execution_count": 8,
   "metadata": {},
   "outputs": [
    {
     "name": "stdout",
     "output_type": "stream",
     "text": [
      "0\n",
      "1\n",
      "2\n"
     ]
    }
   ],
   "source": [
    "fmt.Println(ages[\"Alice\"])\n",
    "ages[\"Alice\"] += 1\n",
    "fmt.Println(ages[\"Alice\"])\n",
    "// И такое тоже.\n",
    "ages[\"Alice\"]++\n",
    "fmt.Sprint(ages[\"Alice\"])"
   ]
  },
  {
   "cell_type": "markdown",
   "metadata": {},
   "source": [
    "Элемент словаря не является переменной, поэтому мы не можем получить его адрес:"
   ]
  },
  {
   "cell_type": "code",
   "execution_count": 9,
   "metadata": {},
   "outputs": [
    {
     "name": "stderr",
     "output_type": "stream",
     "text": [
      "1:6: invalid operation: cannot take address of ages[\"Alice\"] (map index expression of type int)\n"
     ]
    }
   ],
   "source": [
    "_ = &ages[\"Alice\"]"
   ]
  },
  {
   "cell_type": "markdown",
   "metadata": {},
   "source": [
    "Пройти по всему массиву можно циклом for range:"
   ]
  },
  {
   "cell_type": "code",
   "execution_count": 10,
   "metadata": {},
   "outputs": [
    {
     "name": "stdout",
     "output_type": "stream",
     "text": [
      "Alice - 2\n",
      "Bob - 28\n",
      "James - 1\n"
     ]
    }
   ],
   "source": [
    "for key, value := range ages {\n",
    "    fmt.Printf(\"%s - %d\\n\", key, value)\n",
    "}"
   ]
  },
  {
   "cell_type": "markdown",
   "metadata": {},
   "source": [
    "Порядок прохождения по ключам словаря **не определён**. При следующей итерации можно получить ключи и в другом порядке. Если необходим порядок при итерировании, то необходимо явно сортировать ключи:"
   ]
  },
  {
   "cell_type": "code",
   "execution_count": 11,
   "metadata": {},
   "outputs": [
    {
     "name": "stdout",
     "output_type": "stream",
     "text": [
      "Alice - 2\n",
      "Bob - 28\n",
      "James - 1\n"
     ]
    }
   ],
   "source": [
    "import \"sort\"\n",
    "\n",
    "var names []string\n",
    "for name := range ages { // Проходим по ключам словаря.\n",
    "    names = append(names, name)\n",
    "}\n",
    "sort.Strings(names)\n",
    "\n",
    "for _, name := range names { // Пропускаем индекс.\n",
    "    fmt.Printf(\"%s - %d\\n\", name, ages[name])\n",
    "}"
   ]
  },
  {
   "cell_type": "markdown",
   "metadata": {},
   "source": [
    "**Нулевым значением** для словаря является nil, т.е. словарь не ссылается на какую-либо хеш-таблицу:"
   ]
  },
  {
   "cell_type": "code",
   "execution_count": 12,
   "metadata": {},
   "outputs": [
    {
     "name": "stdout",
     "output_type": "stream",
     "text": [
      "true\n",
      "true\n",
      "\n",
      "false\n",
      "true\n",
      "\n"
     ]
    }
   ],
   "source": [
    "var ages map[string]int\n",
    "fmt.Println(ages == nil)\n",
    "fmt.Println(len(ages) == 0)\n",
    "fmt.Println()\n",
    "\n",
    "ages = map[string]int{}\n",
    "fmt.Println(ages == nil)\n",
    "fmt.Sprintln(len(ages) == 0)"
   ]
  },
  {
   "cell_type": "markdown",
   "metadata": {},
   "source": [
    "\n",
    "Большинство операций над словарями такие как индексирование, len, delete и for range можно выполнять и над nil словарями, но **нельзя** сохранять элемент в nil словарь:"
   ]
  },
  {
   "cell_type": "code",
   "execution_count": 13,
   "metadata": {},
   "outputs": [
    {
     "name": "stdout",
     "output_type": "stream",
     "text": [
      "0\n"
     ]
    }
   ],
   "source": [
    "var ages map[string]int\n",
    "fmt.Sprint(ages[\"Marti\"])\n",
    "// ages[\"Marti\"] = 14 // runtime error."
   ]
  },
  {
   "cell_type": "markdown",
   "metadata": {},
   "source": [
    "При индексировании словаря мы всегда получаем какое-либо значение. Если ключ есть в словаре, то возвращается соответствующее ему значение, если нет - возвращается нулевое значение типа значения словаря. Нулевое значение не всегда точно указывает на отсутствие ключа в словаре. В этом случае можно воспользоваться вторым значением, возвращаемым операцией индексирования:"
   ]
  },
  {
   "cell_type": "code",
   "execution_count": 14,
   "metadata": {},
   "outputs": [
    {
     "name": "stdout",
     "output_type": "stream",
     "text": [
      "Not found\n"
     ]
    }
   ],
   "source": [
    "var population map[string]int\n",
    "value, ok := population[\"Moscow\"]\n",
    "if !ok {\n",
    "    fmt.Println(\"Not found\")\n",
    "}"
   ]
  },
  {
   "cell_type": "markdown",
   "metadata": {},
   "source": [
    "Это второе значение равно true, если ключ есть в словаре и false в противном случае.  \n",
    "Проверку и действие можно объединить в один оператор if:"
   ]
  },
  {
   "cell_type": "code",
   "execution_count": 15,
   "metadata": {},
   "outputs": [
    {
     "name": "stdout",
     "output_type": "stream",
     "text": [
      "Not found\n"
     ]
    }
   ],
   "source": [
    "if _, ok := population[\"Moscow\"]; !ok {\n",
    "    fmt.Println(\"Not found\")\n",
    "}"
   ]
  },
  {
   "cell_type": "markdown",
   "metadata": {},
   "source": [
    "Как и слайсы, словари **нельзя** сравнивать между собой. Их можно сравнивать только с значением nil."
   ]
  }
 ],
 "metadata": {
  "kernelspec": {
   "display_name": "Go (lgo)",
   "language": "go",
   "name": "lgo"
  },
  "language_info": {
   "file_extension": "",
   "mimetype": "",
   "name": "go",
   "version": ""
  }
 },
 "nbformat": 4,
 "nbformat_minor": 2
}
