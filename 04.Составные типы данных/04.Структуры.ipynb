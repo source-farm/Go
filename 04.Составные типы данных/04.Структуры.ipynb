{
 "cells": [
  {
   "cell_type": "markdown",
   "metadata": {},
   "source": [
    "# Структуры"
   ]
  },
  {
   "cell_type": "markdown",
   "metadata": {},
   "source": [
    "**Структура** - это тип данных, который позволяет объединить в себе 0 или больше именованных значений разных типов. Эти значения называются **полями**(field). Пример:"
   ]
  },
  {
   "cell_type": "code",
   "execution_count": 1,
   "metadata": {},
   "outputs": [],
   "source": [
    "import (\n",
    "    \"fmt\"\n",
    "    \"time\"\n",
    ")\n",
    "\n",
    "// Объявление структуры Employee.\n",
    "type Employee struct {\n",
    "    ID        int\n",
    "    Name      string\n",
    "    Address   string\n",
    "    DoB       time.Time\n",
    "    Position  string\n",
    "    Salary    int\n",
    "    ManagerID int\n",
    "}\n",
    "\n",
    "// Создание экземпляра Employee.\n",
    "var dilbert Employee"
   ]
  },
  {
   "cell_type": "markdown",
   "metadata": {},
   "source": [
    "Обратиться к отдельным полям можно через \".\" как, например, dilbert.Name. Т.к. dilbert является переменной, её поля тоже являются переменными, т.е. их можно менять также как и получать адрес:"
   ]
  },
  {
   "cell_type": "code",
   "execution_count": 2,
   "metadata": {},
   "outputs": [
    {
     "name": "stdout",
     "output_type": "stream",
     "text": [
      "-1000\n",
      "Senior \n"
     ]
    }
   ],
   "source": [
    "dilbert.Salary -= 1000\n",
    "fmt.Println(dilbert.Salary)\n",
    "\n",
    "position := &dilbert.Position\n",
    "*position += \"Senior \" + *position\n",
    "fmt.Sprint(dilbert.Position)"
   ]
  },
  {
   "cell_type": "markdown",
   "metadata": {},
   "source": [
    "Точку также используют для доступа к полям **даже** в случае работы с указателем на структуру:"
   ]
  },
  {
   "cell_type": "code",
   "execution_count": 3,
   "metadata": {},
   "outputs": [
    {
     "name": "stdout",
     "output_type": "stream",
     "text": [
      "Senior  (proactive team player)\n"
     ]
    }
   ],
   "source": [
    "var hardWorker *Employee = &dilbert\n",
    "// Следующее выражение эквивалентно (*hardWorker).Position += \" (proactive team player)\".\n",
    "hardWorker.Position += \" (proactive team player)\"\n",
    "\n",
    "fmt.Sprint(dilbert.Position)"
   ]
  },
  {
   "cell_type": "markdown",
   "metadata": {},
   "source": [
    "Поля структуры обычно записывают каждый на своей строке, но последовательные поля одного типа можно объявить вместе:"
   ]
  },
  {
   "cell_type": "code",
   "execution_count": 4,
   "metadata": {},
   "outputs": [],
   "source": [
    "type Employee struct {\n",
    "    ID            int\n",
    "    Name, Address string\n",
    "    DoB           time.Time\n",
    "    Position      string\n",
    "    Salary        int\n",
    "    ManagerID     int\n",
    "}"
   ]
  },
  {
   "cell_type": "markdown",
   "metadata": {},
   "source": [
    "Имя поля структуры **экспортируется**, если оно начинается с большой буквы. Это основной механизм котроля доступа, используемый в Go.\n",
    "\n",
    "Структура с именем S **не может** создать внутри себя поле типа S: агрегированные значения не могут содержать сами себя(аналогичное ограничение применимо и к массивам). Но структура S может объявить **поле-указатель**, которое является указателем на S. Таким образом можно создавать рекурсивные структуры данных как связный лист или дерево:"
   ]
  },
  {
   "cell_type": "code",
   "execution_count": 5,
   "metadata": {},
   "outputs": [
    {
     "name": "stdout",
     "output_type": "stream",
     "text": [
      "1 -> 2\n"
     ]
    }
   ],
   "source": [
    "type Node struct {\n",
    "    value int\n",
    "    next  *Node\n",
    "}\n",
    "\n",
    "var head Node = Node{1, nil}\n",
    "head.next = &Node{2, nil}\n",
    "\n",
    "fmt.Sprint(head.value, \" -> \", head.next.value)"
   ]
  },
  {
   "cell_type": "markdown",
   "metadata": {},
   "source": [
    "Нулевое значение структуры формируется из нулевых значений его полей.\n",
    "\n",
    "**struct{}** называют пустой структурой, ей размер равен 0 и она не хранит какой либо полезной информации."
   ]
  },
  {
   "cell_type": "markdown",
   "metadata": {},
   "source": [
    "## Литерал структуры"
   ]
  },
  {
   "cell_type": "markdown",
   "metadata": {},
   "source": [
    "Значение типа структуры можно создать с помощью **литерала структуры**, который определяет значения его полей. Например:"
   ]
  },
  {
   "cell_type": "code",
   "execution_count": 6,
   "metadata": {},
   "outputs": [
    {
     "name": "stdout",
     "output_type": "stream",
     "text": [
      "1, 2\n"
     ]
    }
   ],
   "source": [
    "type Point struct {X, Y int}\n",
    "\n",
    "p := Point{1, 2}\n",
    "fmt.Sprint(p.X, \", \", p.Y)"
   ]
  },
  {
   "cell_type": "markdown",
   "metadata": {},
   "source": [
    "Существует **2 вида** литералов структур: при использовании **первого** вида необходимо указывать значение каждого поля именно в том виде, в котором поля объявлены в структуре. Именно такой литерал был использован в примере выше.  \n",
    "Гораздо чаще используется **второй** вид литералов, когда поля инициализируются перечислением названия некоторых или всех полей структуры и их значений. Если в таком литерале какое-либо поле пропущено, то для неё устанавливается нулевое значение её типа. Т.к. мы явно указываем название поля, порядок не имеет значения. Пример:"
   ]
  },
  {
   "cell_type": "code",
   "execution_count": 7,
   "metadata": {},
   "outputs": [
    {
     "name": "stdout",
     "output_type": "stream",
     "text": [
      "8, -1\n"
     ]
    }
   ],
   "source": [
    "q := Point{Y: -1, X: 8}\n",
    "fmt.Sprint(q.X, \", \", q.Y)"
   ]
  }
 ],
 "metadata": {
  "kernelspec": {
   "display_name": "Go (lgo)",
   "language": "go",
   "name": "lgo"
  },
  "language_info": {
   "file_extension": "",
   "mimetype": "",
   "name": "go",
   "version": ""
  }
 },
 "nbformat": 4,
 "nbformat_minor": 2
}
