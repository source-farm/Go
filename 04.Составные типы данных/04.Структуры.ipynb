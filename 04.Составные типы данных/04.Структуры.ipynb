{
 "cells": [
  {
   "cell_type": "markdown",
   "metadata": {},
   "source": [
    "# Структуры"
   ]
  },
  {
   "cell_type": "markdown",
   "metadata": {},
   "source": [
    "**Структура** - это тип данных, который позволяет объединить в себе 0 или больше именованных значений разных типов. Эти значения называются **полями**(field). Пример:"
   ]
  },
  {
   "cell_type": "code",
   "execution_count": 1,
   "metadata": {},
   "outputs": [],
   "source": [
    "import (\n",
    "    \"fmt\"\n",
    "    \"time\"\n",
    ")\n",
    "\n",
    "// Объявление структуры Employee.\n",
    "type Employee struct {\n",
    "    ID        int\n",
    "    Name      string\n",
    "    Address   string\n",
    "    DoB       time.Time\n",
    "    Position  string\n",
    "    Salary    int\n",
    "    ManagerID int\n",
    "}\n",
    "\n",
    "// Создание экземпляра Employee.\n",
    "var dilbert Employee"
   ]
  },
  {
   "cell_type": "markdown",
   "metadata": {},
   "source": [
    "Обратиться к отдельным полям можно через \".\" как, например, dilbert.Name. Т.к. dilbert является переменной, её поля тоже являются переменными, т.е. их можно менять также как и получать адрес:"
   ]
  },
  {
   "cell_type": "code",
   "execution_count": 2,
   "metadata": {},
   "outputs": [
    {
     "name": "stdout",
     "output_type": "stream",
     "text": [
      "-1000\n",
      "Senior \n"
     ]
    }
   ],
   "source": [
    "dilbert.Salary -= 1000\n",
    "fmt.Println(dilbert.Salary)\n",
    "\n",
    "position := &dilbert.Position\n",
    "*position += \"Senior \" + *position\n",
    "fmt.Sprint(dilbert.Position)"
   ]
  },
  {
   "cell_type": "markdown",
   "metadata": {},
   "source": [
    "Точку также используют для доступа к полям **даже** в случае работы с указателем на структуру:"
   ]
  },
  {
   "cell_type": "code",
   "execution_count": 3,
   "metadata": {},
   "outputs": [
    {
     "name": "stdout",
     "output_type": "stream",
     "text": [
      "Senior  (proactive team player)\n"
     ]
    }
   ],
   "source": [
    "var hardWorker *Employee = &dilbert\n",
    "// Следующее выражение эквивалентно (*hardWorker).Position += \" (proactive team player)\".\n",
    "hardWorker.Position += \" (proactive team player)\"\n",
    "\n",
    "fmt.Sprint(dilbert.Position)"
   ]
  },
  {
   "cell_type": "markdown",
   "metadata": {},
   "source": [
    "Поля структуры обычно записывают каждый на своей строке, но последовательные поля одного типа можно объявить вместе:"
   ]
  },
  {
   "cell_type": "code",
   "execution_count": 4,
   "metadata": {},
   "outputs": [],
   "source": [
    "type Employee struct {\n",
    "    ID            int\n",
    "    Name, Address string\n",
    "    DoB           time.Time\n",
    "    Position      string\n",
    "    Salary        int\n",
    "    ManagerID     int\n",
    "}"
   ]
  },
  {
   "cell_type": "markdown",
   "metadata": {},
   "source": [
    "Имя поля структуры **экспортируется**, если оно начинается с большой буквы. Это основной механизм котроля доступа, используемый в Go.\n",
    "\n",
    "Структура с именем S **не может** создать внутри себя поле типа S: агрегированные значения не могут содержать сами себя(аналогичное ограничение применимо и к массивам). Но структура S может объявить **поле-указатель**, которое является указателем на S. Таким образом можно создавать рекурсивные структуры данных как связный лист или дерево:"
   ]
  },
  {
   "cell_type": "code",
   "execution_count": 5,
   "metadata": {},
   "outputs": [
    {
     "name": "stdout",
     "output_type": "stream",
     "text": [
      "1 -> 2\n"
     ]
    }
   ],
   "source": [
    "type Node struct {\n",
    "    value int\n",
    "    next  *Node\n",
    "}\n",
    "\n",
    "var head Node = Node{1, nil}\n",
    "head.next = &Node{2, nil}\n",
    "\n",
    "fmt.Sprint(head.value, \" -> \", head.next.value)"
   ]
  },
  {
   "cell_type": "markdown",
   "metadata": {},
   "source": [
    "Нулевое значение структуры формируется из нулевых значений его полей.\n",
    "\n",
    "**struct{}** называют пустой структурой, ей размер равен 0 и она не хранит какой либо полезной информации."
   ]
  },
  {
   "cell_type": "markdown",
   "metadata": {},
   "source": [
    "## Литерал структуры"
   ]
  },
  {
   "cell_type": "markdown",
   "metadata": {},
   "source": [
    "Значение типа структуры можно создать с помощью **литерала структуры**, который определяет значения его полей. Например:"
   ]
  },
  {
   "cell_type": "code",
   "execution_count": 6,
   "metadata": {},
   "outputs": [
    {
     "name": "stdout",
     "output_type": "stream",
     "text": [
      "1, 2\n"
     ]
    }
   ],
   "source": [
    "type Point struct {X, Y int}\n",
    "\n",
    "p := Point{1, 2}\n",
    "fmt.Sprint(p.X, \", \", p.Y)"
   ]
  },
  {
   "cell_type": "markdown",
   "metadata": {},
   "source": [
    "Существует **2 вида** литералов структур: при использовании **первого** вида необходимо указывать значение каждого поля именно в том виде, в котором поля объявлены в структуре. Именно такой литерал был использован в примере выше.  \n",
    "Гораздо чаще используется **второй** вид литералов, когда поля инициализируются перечислением названия некоторых или всех полей структуры и их значений. Если в таком литерале какое-либо поле пропущено, то для неё устанавливается нулевое значение её типа. Т.к. мы явно указываем название поля, порядок не имеет значения. Пример:"
   ]
  },
  {
   "cell_type": "code",
   "execution_count": 7,
   "metadata": {},
   "outputs": [
    {
     "name": "stdout",
     "output_type": "stream",
     "text": [
      "8, -1\n"
     ]
    }
   ],
   "source": [
    "q := Point{Y: -1, X: 8}\n",
    "fmt.Sprint(q.X, \", \", q.Y)"
   ]
  },
  {
   "cell_type": "markdown",
   "metadata": {},
   "source": [
    "Эти два вида литералов **нельзя** смешивать. Также нельзя с помощью литералов обойти правило экспортирования имён в Go:\n",
    "\n",
    "package p  \n",
    "type T struct{ a, b int } // a и b не экспортируются, т.к. начинаются с маленькой буквы.\n",
    "\n",
    "package q  \n",
    "import \"p\"  \n",
    "var _ = p.T{a: 1, b: 2} // ошибка компиляции: a и b недоступны за пределами пакета p.  \n",
    "var _ = p.T{1, 2}       // ошибка компиляции: a и b недоступны за пределами пакета p.\n"
   ]
  },
  {
   "cell_type": "markdown",
   "metadata": {},
   "source": [
    "Структуры можно передавать в функцию и возвращать из неё:"
   ]
  },
  {
   "cell_type": "code",
   "execution_count": 8,
   "metadata": {},
   "outputs": [
    {
     "name": "stdout",
     "output_type": "stream",
     "text": [
      "{0 8}\n"
     ]
    }
   ],
   "source": [
    "func Scale(p Point, factor int) Point {\n",
    "    return Point{p.X * factor, p.Y * factor}\n",
    "}\n",
    "\n",
    "p1 := Point{0, 4}\n",
    "p2 := Scale(p1, 2)\n",
    "fmt.Sprint(p2)"
   ]
  },
  {
   "cell_type": "markdown",
   "metadata": {},
   "source": [
    "Большие структуры для эффективности можно передавать и возвращать через указатели, а если нужно изменить значение, то передача через указатель **объязательна**, т.к. в Go передача параметров идёт по значению, а следовательно функция получает копию аргумента, а не ссылку на исходный объект:"
   ]
  },
  {
   "cell_type": "code",
   "execution_count": 9,
   "metadata": {},
   "outputs": [
    {
     "name": "stdout",
     "output_type": "stream",
     "text": [
      "1000\n",
      "1100\n"
     ]
    }
   ],
   "source": [
    "func AwardAnnualRaise(e *Employee) {\n",
    "    e.Salary = e.Salary * 110/100\n",
    "}\n",
    "\n",
    "var worker Employee\n",
    "worker.Salary = 1000\n",
    "\n",
    "fmt.Println(worker.Salary)\n",
    "AwardAnnualRaise(&worker)\n",
    "fmt.Sprint(worker.Salary)"
   ]
  },
  {
   "cell_type": "markdown",
   "metadata": {},
   "source": [
    "Т.к. часто с структурами работают через указатели можно использовать короткую форму объявления переменной, чтобы инициализировать указатель на структуру:"
   ]
  },
  {
   "cell_type": "code",
   "execution_count": 10,
   "metadata": {},
   "outputs": [
    {
     "name": "stdout",
     "output_type": "stream",
     "text": [
      "{3 1}\n"
     ]
    }
   ],
   "source": [
    "pp := &Point{3, 1}\n",
    "fmt.Sprint(*pp)"
   ]
  },
  {
   "cell_type": "markdown",
   "metadata": {},
   "source": [
    "## Сравнение структур"
   ]
  },
  {
   "cell_type": "markdown",
   "metadata": {},
   "source": [
    "Если все поля структуры являются сравнимыми, то и сама структура является сравнимой. Оператор == сравнивает соответствующие поля структуры по очереди:"
   ]
  },
  {
   "cell_type": "code",
   "execution_count": 11,
   "metadata": {},
   "outputs": [
    {
     "name": "stdout",
     "output_type": "stream",
     "text": [
      "false\n",
      "true\n"
     ]
    }
   ],
   "source": [
    "p := Point{1, 0}\n",
    "q := Point{2, 1}\n",
    "\n",
    "fmt.Println(p == q)\n",
    "fmt.Sprint(p == Point{1, 0})"
   ]
  },
  {
   "cell_type": "markdown",
   "metadata": {},
   "source": [
    "Сравнимые структуры, также как и другие сравнимые типы, можно использовать в качестве **ключа** словаря:"
   ]
  },
  {
   "cell_type": "code",
   "execution_count": 12,
   "metadata": {},
   "outputs": [],
   "source": [
    "type Address struct {\n",
    "    hostname string\n",
    "    port     int\n",
    "}\n",
    "\n",
    "hits := map[Address]int{}\n",
    "hits[Address{\"host.org\", 80}]++"
   ]
  },
  {
   "cell_type": "markdown",
   "metadata": {},
   "source": [
    "## Встраивание структур и анонимные поля"
   ]
  },
  {
   "cell_type": "markdown",
   "metadata": {},
   "source": [
    "В Go есть так называемый механизм **встраивания структуры**(struct embedding), который позволяет использовать название именованной структуры как **анонимное поле** внутри другой структуры, что в свою очередь позволяет сокращать длиные цепочки обращений к полям типа x.f вместо x.a.b.f. На примере это всё будет намного понятнее.\n",
    "\n",
    "Представим, что в некой программе двумерного рисования существуют такие фигуры как прямоугольник, эллипс и т.д. Такая программа может объявить, например, следующие 2 типа фигур:"
   ]
  },
  {
   "cell_type": "code",
   "execution_count": 13,
   "metadata": {},
   "outputs": [],
   "source": [
    "type Circle struct {\n",
    "    X      int\n",
    "    Y      int\n",
    "    Radius int\n",
    "}\n",
    "\n",
    "type Wheel struct {\n",
    "    X      int\n",
    "    Y      int\n",
    "    Radius int\n",
    "    Spokes int // Спицы.\n",
    "}"
   ]
  },
  {
   "cell_type": "markdown",
   "metadata": {},
   "source": [
    "Тип Wheel обладает всем свойствами типа Circle и ещё допольнительно количеством спиц. Создать колесо можно так:"
   ]
  },
  {
   "cell_type": "code",
   "execution_count": 14,
   "metadata": {},
   "outputs": [],
   "source": [
    "var w Wheel\n",
    "w.X = 0\n",
    "w.Y = 9\n",
    "w.Radius = 10\n",
    "w.Spokes = 30"
   ]
  },
  {
   "cell_type": "markdown",
   "metadata": {},
   "source": [
    "Т.к. у окружности и круга есть общие поля, можно попытаться выделить их в отдельный тип:"
   ]
  },
  {
   "cell_type": "code",
   "execution_count": 15,
   "metadata": {},
   "outputs": [],
   "source": [
    "type Point struct {\n",
    "    X int\n",
    "    Y int\n",
    "}\n",
    "\n",
    "type Circle struct {\n",
    "    Center Point\n",
    "    Radius int\n",
    "}\n",
    "\n",
    "type Wheel struct {\n",
    "    Circle Circle\n",
    "    Spokes int\n",
    "}"
   ]
  },
  {
   "cell_type": "markdown",
   "metadata": {},
   "source": [
    "Но в этом случае обращения к полям колеса намного **удлиняются**:"
   ]
  },
  {
   "cell_type": "code",
   "execution_count": 16,
   "metadata": {},
   "outputs": [],
   "source": [
    "var w Wheel\n",
    "w.Circle.Center.X = 0\n",
    "w.Circle.Center.Y = 9\n",
    "w.Circle.Radius = 10\n",
    "w.Spokes = 30"
   ]
  },
  {
   "cell_type": "markdown",
   "metadata": {},
   "source": [
    "Для решения этой проблемы в Go и используется встраивание структур. Go позволяет объявить поле структуры без имени. Такое поле называется **анонимным**. Типом поля должен быть именованный тип или указатель на именованный тип:"
   ]
  },
  {
   "cell_type": "code",
   "execution_count": 17,
   "metadata": {},
   "outputs": [],
   "source": [
    "type Point struct {\n",
    "    X int\n",
    "    Y int\n",
    "}\n",
    "\n",
    "type Circle struct {\n",
    "    Point\n",
    "    Radius int\n",
    "}\n",
    "\n",
    "type Wheel struct {\n",
    "    Circle\n",
    "    Spokes int\n",
    "}"
   ]
  },
  {
   "cell_type": "markdown",
   "metadata": {},
   "source": [
    "В таком варианте типы Circle и Wheel имеют по одному анонимному полю. В этом случае говорят, что тип Point **встроен**(embedded) в тип Circle и тип Circle встроен в тип Wheel. Благодаря встраиванию мы можем обращаться к листовым именам воображаемого дерева без использования промежуточных звеньев:"
   ]
  },
  {
   "cell_type": "code",
   "execution_count": 18,
   "metadata": {},
   "outputs": [],
   "source": [
    "var w Wheel\n",
    "w.X = 0       // то же самое, что и w.Circle.Point.X = 0\n",
    "w.Y = 9       // то же самое, что и w.Circle.Point.Y = 9\n",
    "w.Radius = 10 // то же самое, что и w.Circle.Radius = 10\n",
    "w.Spokes = 30"
   ]
  },
  {
   "cell_type": "markdown",
   "metadata": {},
   "source": [
    "Явное обращение к полям, которое приведено в комментариях, при использовании встраивания продолжает работать. Поля  Point и Circle на самом деле имеют названия, которые совпадают с типом, но их можно пропускать.\n",
    "\n",
    "К сожалению для литералов структур это **не работает**. Поэтому следующие объявления вызовут ошибку компиляции:  \n",
    "w = Wheel{0, 9, 10, 30}  \n",
    "w = Wheel{X: 8, Y: 8, Radius: 10, Spokes: 30}"
   ]
  },
  {
   "cell_type": "markdown",
   "metadata": {},
   "source": [
    "Литерал должен в точности следовать форме объявления:"
   ]
  },
  {
   "cell_type": "code",
   "execution_count": 19,
   "metadata": {},
   "outputs": [],
   "source": [
    "w = Wheel{Circle{Point{0, 9}, 10}, 30}\n",
    "\n",
    "w = Wheel{\n",
    "    Circle: Circle{\n",
    "        Point: Point{X: 0, Y: 9},\n",
    "        Radius: 10,\n",
    "    },\n",
    "    Spokes: 30, // запятая тут необходима также как и в Radius'е.\n",
    "}"
   ]
  },
  {
   "cell_type": "markdown",
   "metadata": {},
   "source": [
    "Т.к. анонимные поля имеют неявное имя, которое совпадает с названием типа, **нельзя создавать** два анонимных поля одинакового типа.  \n",
    "Неявное имя также влияет и на экспортируемость. Если тип начинается с маленькой буквы, такое же имя будет и у неявного имени, следовательно поле не будет экспортировано. В нашем примере, если окружность была бы объявлена как circle, то выражение  \n",
    "w.X = 8  \n",
    "работало бы, но явная длинная форма обращения, которая приведена в комментариях в примере выше, за пределами пакета, в котором объявлется этот тип, не работала бы."
   ]
  }
 ],
 "metadata": {
  "kernelspec": {
   "display_name": "Go (lgo)",
   "language": "go",
   "name": "lgo"
  },
  "language_info": {
   "file_extension": "",
   "mimetype": "",
   "name": "go",
   "version": ""
  }
 },
 "nbformat": 4,
 "nbformat_minor": 2
}
