{
 "cells": [
  {
   "cell_type": "markdown",
   "metadata": {},
   "source": [
    "# Массив"
   ]
  },
  {
   "cell_type": "markdown",
   "metadata": {},
   "source": [
    "**Массив** - это структура данных фиксированной длины, которая состоит из элементов одинакового типа. Доступ к элементам массива можно получить операцией индексирования, индекс может находиться в диапазоне от 0 до длины массива - 1 включительно. Встроенная функция **len** возвращает количество элементов в массиве:"
   ]
  },
  {
   "cell_type": "code",
   "execution_count": 1,
   "metadata": {},
   "outputs": [
    {
     "name": "stdout",
     "output_type": "stream",
     "text": [
      "0\n",
      "0\n",
      "\n"
     ]
    }
   ],
   "source": [
    "import \"fmt\"\n",
    "\n",
    "var a [3]int // массив из трёх элементов типа int\n",
    "fmt.Println(a[0])\n",
    "fmt.Sprintln(a[len(a) - 1])"
   ]
  },
  {
   "cell_type": "markdown",
   "metadata": {},
   "source": [
    "Пройти по массиву можно с помощью цикла **for**:"
   ]
  },
  {
   "cell_type": "code",
   "execution_count": 2,
   "metadata": {},
   "outputs": [
    {
     "name": "stdout",
     "output_type": "stream",
     "text": [
      "a[0] = 0\n",
      "a[1] = 0\n",
      "a[2] = 0\n"
     ]
    }
   ],
   "source": [
    "for i, v := range a {\n",
    "    fmt.Printf(\"a[%d] = %d\\n\", i, v)\n",
    "}"
   ]
  },
  {
   "cell_type": "markdown",
   "metadata": {},
   "source": [
    "Индекс можно пропустить с помощью **пустого идентификатора**(blank identifier):"
   ]
  },
  {
   "cell_type": "code",
   "execution_count": 3,
   "metadata": {},
   "outputs": [
    {
     "name": "stdout",
     "output_type": "stream",
     "text": [
      "0 0 0 "
     ]
    }
   ],
   "source": [
    "for _, v := range a {\n",
    "    fmt.Print(v, \" \")\n",
    "}"
   ]
  },
  {
   "cell_type": "markdown",
   "metadata": {},
   "source": [
    "По-умолчанию элементы нового массива устанавливаются равными нулевому значению типа элементов массива, который для чисел равен 0. С помощью **литерала массива** мы можем инициализировать массив списком значений:"
   ]
  },
  {
   "cell_type": "code",
   "execution_count": 4,
   "metadata": {},
   "outputs": [
    {
     "name": "stdout",
     "output_type": "stream",
     "text": [
      "[1 2 0]\n"
     ]
    }
   ],
   "source": [
    "var q [3]int = [3]int{1, 2, 3}\n",
    "var r [3]int = [3]int{1, 2}\n",
    "fmt.Sprint(r)"
   ]
  },
  {
   "cell_type": "markdown",
   "metadata": {},
   "source": [
    "Если в литерале массива вместо длины массива указать **\"...\"**(ellipsis), то длина массива будет определена, исходя из количества элементов в списке инициализации:"
   ]
  },
  {
   "cell_type": "code",
   "execution_count": 5,
   "metadata": {},
   "outputs": [
    {
     "name": "stdout",
     "output_type": "stream",
     "text": [
      "4\n"
     ]
    }
   ],
   "source": [
    "q := [...]int{1, -1, 0, 2}\n",
    "fmt.Sprint(len(q))"
   ]
  },
  {
   "cell_type": "markdown",
   "metadata": {},
   "source": [
    "Размер массива является частью его типа, поэтому тип **[3]int** отличается от типа **[4]int**. Размер массива должен быть константным выражением, т.е. выражением, которое можно вычислить на этапе компиляции:"
   ]
  },
  {
   "cell_type": "code",
   "execution_count": 6,
   "metadata": {},
   "outputs": [
    {
     "name": "stderr",
     "output_type": "stream",
     "text": [
      "3:5: cannot use ([4]int literal) (value of type [4]int) as [3]int value in assignment\n"
     ]
    }
   ],
   "source": [
    "q := [3]int{1, 2, 3}\n",
    "q = [3]int{0, -1, -2}  // Нет ошибки\n",
    "q = [4]int{0, 1, 1, 0} // Есть ошибка"
   ]
  },
  {
   "cell_type": "markdown",
   "metadata": {},
   "source": [
    "Также каждый элемент массива можно инициализировать отдельно:"
   ]
  },
  {
   "cell_type": "code",
   "execution_count": 7,
   "metadata": {},
   "outputs": [
    {
     "name": "stdout",
     "output_type": "stream",
     "text": [
      "0 $\n"
     ]
    }
   ],
   "source": [
    "type Currency int\n",
    "\n",
    "const (\n",
    "    USD Currency = iota\n",
    "    EUR\n",
    "    GBP\n",
    ")\n",
    "\n",
    "symbol := [...]string{USD: \"$\", EUR: \"€\", GBP: \"£\"}\n",
    "fmt.Sprint(USD, \" \", symbol[USD])"
   ]
  },
  {
   "cell_type": "markdown",
   "metadata": {},
   "source": [
    "При использовании такой формы инициализации индексы могут быть указаны в любом порядке, элементы в неуказанных индексах получают нулевое значение типа элементов массива. Например, выражение:"
   ]
  },
  {
   "cell_type": "code",
   "execution_count": 8,
   "metadata": {},
   "outputs": [],
   "source": [
    "r := [...]int{99: -1}"
   ]
  },
  {
   "cell_type": "markdown",
   "metadata": {},
   "source": [
    "определяет массив из 100 элементов, все элементы которого равны 0 кроме последнего. Последний равен -1."
   ]
  },
  {
   "cell_type": "markdown",
   "metadata": {},
   "source": [
    "Если элементы массива являются сравнимыми(comparable), то тогда можно сравнивать и целые массивы. Сравнение массивов происходит поэлементно:"
   ]
  },
  {
   "cell_type": "code",
   "execution_count": 9,
   "metadata": {},
   "outputs": [
    {
     "name": "stdout",
     "output_type": "stream",
     "text": [
      "true false false\n"
     ]
    }
   ],
   "source": [
    "a := [2]int{1, 2}\n",
    "b := [...]int{1, 2}\n",
    "c := [...]int{1, 3}\n",
    "fmt.Sprint(a == b, a == c, b == c)"
   ]
  },
  {
   "cell_type": "markdown",
   "metadata": {},
   "source": [
    "Массивы разной длины **нельзя** сравнивать(произойдёт ошибка компиляции)."
   ]
  },
  {
   "cell_type": "markdown",
   "metadata": {},
   "source": [
    "При передаче массива функции **создаётся копия** всего массива и функция работает с этой копией:"
   ]
  },
  {
   "cell_type": "code",
   "execution_count": 10,
   "metadata": {},
   "outputs": [
    {
     "name": "stdout",
     "output_type": "stream",
     "text": [
      "[7 14]\n"
     ]
    }
   ],
   "source": [
    "func f(a [2]int) {\n",
    "    a[0] = 13\n",
    "}\n",
    "\n",
    "ar := [2]int{7, 14}\n",
    "f(ar)\n",
    "fmt.Sprint(ar)"
   ]
  }
 ],
 "metadata": {
  "kernelspec": {
   "display_name": "Go (lgo)",
   "language": "go",
   "name": "lgo"
  },
  "language_info": {
   "file_extension": "",
   "mimetype": "",
   "name": "go",
   "version": ""
  }
 },
 "nbformat": 4,
 "nbformat_minor": 2
}
